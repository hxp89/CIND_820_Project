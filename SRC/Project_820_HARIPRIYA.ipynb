{
 "cells": [
  {
   "cell_type": "markdown",
   "metadata": {},
   "source": [
    "# CIND 820 Project(Analytics, ML Modeling and Prediction of Financial Transactions)"
   ]
  },
  {
   "cell_type": "markdown",
   "metadata": {},
   "source": [
    "#### Code Also available in Github repository https://github.com/hxp89/CIND_820_Project/blob/Feature/SRC/Project_820_HARIPRIYA.ipynb"
   ]
  },
  {
   "cell_type": "markdown",
   "metadata": {},
   "source": [
    "#### **Importing Libraries**"
   ]
  },
  {
   "cell_type": "code",
   "execution_count": 26,
   "metadata": {},
   "outputs": [],
   "source": [
    "import matplotlib.pyplot as plt\n",
    "import numpy as np\n",
    "import seaborn as sns\n",
    "import pandas as pd\n",
    "from sklearn.metrics import accuracy_score,f1_score,precision_score, recall_score\n",
    "from sklearn.linear_model import LogisticRegression\n",
    "from sklearn.tree import DecisionTreeClassifier\n",
    "from sklearn.naive_bayes import GaussianNB\n",
    "from sklearn.naive_bayes import MultinomialNB\n",
    "from sklearn.model_selection import train_test_split\n",
    "from sklearn.ensemble import RandomForestClassifier\n",
    "from imblearn.over_sampling import SMOTE\n",
    "from sklearn.preprocessing import StandardScaler\n",
    "from sklearn.model_selection import StratifiedKFold\n",
    "from sklearn.metrics import roc_auc_score\n",
    "from sklearn.metrics import auc\n",
    "from sklearn.metrics import confusion_matrix\n",
    "from sklearn.pipeline import Pipeline\n",
    "import warnings\n",
    "warnings.filterwarnings(\"ignore\")"
   ]
  },
  {
   "cell_type": "markdown",
   "metadata": {},
   "source": [
    "#### **Reading and creating a Dataframe using a csv file**"
   ]
  },
  {
   "cell_type": "markdown",
   "metadata": {},
   "source": [
    "Source of the Dataset is https://www.kaggle.com/code/jrfillipi/starter-synthetic-financial-datasets-a147ad27-3/data"
   ]
  },
  {
   "cell_type": "code",
   "execution_count": 27,
   "metadata": {},
   "outputs": [],
   "source": [
    "payments = pd.read_csv(\"C:/Users/16476/Documents/Courses/CIND_820_Project/archive_Online_Payments_Fraud_detection_datasets/PS_20174392719_1491204439457_log.csv\")"
   ]
  },
  {
   "cell_type": "markdown",
   "metadata": {},
   "source": [
    "*To see the data*"
   ]
  },
  {
   "cell_type": "code",
   "execution_count": 28,
   "metadata": {},
   "outputs": [
    {
     "data": {
      "text/html": [
       "<div>\n",
       "<style scoped>\n",
       "    .dataframe tbody tr th:only-of-type {\n",
       "        vertical-align: middle;\n",
       "    }\n",
       "\n",
       "    .dataframe tbody tr th {\n",
       "        vertical-align: top;\n",
       "    }\n",
       "\n",
       "    .dataframe thead th {\n",
       "        text-align: right;\n",
       "    }\n",
       "</style>\n",
       "<table border=\"1\" class=\"dataframe\">\n",
       "  <thead>\n",
       "    <tr style=\"text-align: right;\">\n",
       "      <th></th>\n",
       "      <th>step</th>\n",
       "      <th>type</th>\n",
       "      <th>amount</th>\n",
       "      <th>nameOrig</th>\n",
       "      <th>oldbalanceOrg</th>\n",
       "      <th>newbalanceOrig</th>\n",
       "      <th>nameDest</th>\n",
       "      <th>oldbalanceDest</th>\n",
       "      <th>newbalanceDest</th>\n",
       "      <th>isFraud</th>\n",
       "      <th>isFlaggedFraud</th>\n",
       "    </tr>\n",
       "  </thead>\n",
       "  <tbody>\n",
       "    <tr>\n",
       "      <th>0</th>\n",
       "      <td>1</td>\n",
       "      <td>PAYMENT</td>\n",
       "      <td>9839.64</td>\n",
       "      <td>C1231006815</td>\n",
       "      <td>170136.0</td>\n",
       "      <td>160296.36</td>\n",
       "      <td>M1979787155</td>\n",
       "      <td>0.0</td>\n",
       "      <td>0.0</td>\n",
       "      <td>0</td>\n",
       "      <td>0</td>\n",
       "    </tr>\n",
       "    <tr>\n",
       "      <th>1</th>\n",
       "      <td>1</td>\n",
       "      <td>PAYMENT</td>\n",
       "      <td>1864.28</td>\n",
       "      <td>C1666544295</td>\n",
       "      <td>21249.0</td>\n",
       "      <td>19384.72</td>\n",
       "      <td>M2044282225</td>\n",
       "      <td>0.0</td>\n",
       "      <td>0.0</td>\n",
       "      <td>0</td>\n",
       "      <td>0</td>\n",
       "    </tr>\n",
       "    <tr>\n",
       "      <th>2</th>\n",
       "      <td>1</td>\n",
       "      <td>TRANSFER</td>\n",
       "      <td>181.00</td>\n",
       "      <td>C1305486145</td>\n",
       "      <td>181.0</td>\n",
       "      <td>0.00</td>\n",
       "      <td>C553264065</td>\n",
       "      <td>0.0</td>\n",
       "      <td>0.0</td>\n",
       "      <td>1</td>\n",
       "      <td>0</td>\n",
       "    </tr>\n",
       "    <tr>\n",
       "      <th>3</th>\n",
       "      <td>1</td>\n",
       "      <td>CASH_OUT</td>\n",
       "      <td>181.00</td>\n",
       "      <td>C840083671</td>\n",
       "      <td>181.0</td>\n",
       "      <td>0.00</td>\n",
       "      <td>C38997010</td>\n",
       "      <td>21182.0</td>\n",
       "      <td>0.0</td>\n",
       "      <td>1</td>\n",
       "      <td>0</td>\n",
       "    </tr>\n",
       "    <tr>\n",
       "      <th>4</th>\n",
       "      <td>1</td>\n",
       "      <td>PAYMENT</td>\n",
       "      <td>11668.14</td>\n",
       "      <td>C2048537720</td>\n",
       "      <td>41554.0</td>\n",
       "      <td>29885.86</td>\n",
       "      <td>M1230701703</td>\n",
       "      <td>0.0</td>\n",
       "      <td>0.0</td>\n",
       "      <td>0</td>\n",
       "      <td>0</td>\n",
       "    </tr>\n",
       "  </tbody>\n",
       "</table>\n",
       "</div>"
      ],
      "text/plain": [
       "   step      type    amount     nameOrig  oldbalanceOrg  newbalanceOrig  \\\n",
       "0     1   PAYMENT   9839.64  C1231006815       170136.0       160296.36   \n",
       "1     1   PAYMENT   1864.28  C1666544295        21249.0        19384.72   \n",
       "2     1  TRANSFER    181.00  C1305486145          181.0            0.00   \n",
       "3     1  CASH_OUT    181.00   C840083671          181.0            0.00   \n",
       "4     1   PAYMENT  11668.14  C2048537720        41554.0        29885.86   \n",
       "\n",
       "      nameDest  oldbalanceDest  newbalanceDest  isFraud  isFlaggedFraud  \n",
       "0  M1979787155             0.0             0.0        0               0  \n",
       "1  M2044282225             0.0             0.0        0               0  \n",
       "2   C553264065             0.0             0.0        1               0  \n",
       "3    C38997010         21182.0             0.0        1               0  \n",
       "4  M1230701703             0.0             0.0        0               0  "
      ]
     },
     "execution_count": 28,
     "metadata": {},
     "output_type": "execute_result"
    }
   ],
   "source": [
    "payments.head()"
   ]
  },
  {
   "cell_type": "markdown",
   "metadata": {},
   "source": [
    "### **Initial Data Exploration**"
   ]
  },
  {
   "cell_type": "markdown",
   "metadata": {},
   "source": [
    "##### Datatypes of the Dataframe"
   ]
  },
  {
   "cell_type": "code",
   "execution_count": 29,
   "metadata": {},
   "outputs": [
    {
     "name": "stdout",
     "output_type": "stream",
     "text": [
      "<class 'pandas.core.frame.DataFrame'>\n",
      "RangeIndex: 6362620 entries, 0 to 6362619\n",
      "Data columns (total 11 columns):\n",
      " #   Column          Dtype  \n",
      "---  ------          -----  \n",
      " 0   step            int64  \n",
      " 1   type            object \n",
      " 2   amount          float64\n",
      " 3   nameOrig        object \n",
      " 4   oldbalanceOrg   float64\n",
      " 5   newbalanceOrig  float64\n",
      " 6   nameDest        object \n",
      " 7   oldbalanceDest  float64\n",
      " 8   newbalanceDest  float64\n",
      " 9   isFraud         int64  \n",
      " 10  isFlaggedFraud  int64  \n",
      "dtypes: float64(5), int64(3), object(3)\n",
      "memory usage: 534.0+ MB\n"
     ]
    }
   ],
   "source": [
    "payments.info()"
   ]
  },
  {
   "cell_type": "markdown",
   "metadata": {},
   "source": [
    "*There are 5 Floats, 3 Integers and 3 objects features*"
   ]
  },
  {
   "cell_type": "markdown",
   "metadata": {},
   "source": [
    "##### Dimentionality of the Dataframe"
   ]
  },
  {
   "cell_type": "code",
   "execution_count": 30,
   "metadata": {},
   "outputs": [
    {
     "data": {
      "text/plain": [
       "'Transaction Dataset have 6362620 rows and 11 features.'"
      ]
     },
     "execution_count": 30,
     "metadata": {},
     "output_type": "execute_result"
    }
   ],
   "source": [
    "f\"Transaction Dataset have {payments.shape[0]} rows and {payments.shape[1]} features.\""
   ]
  },
  {
   "cell_type": "markdown",
   "metadata": {},
   "source": [
    "##### Missing values and percentage calculations"
   ]
  },
  {
   "cell_type": "code",
   "execution_count": 31,
   "metadata": {},
   "outputs": [
    {
     "data": {
      "text/html": [
       "<div>\n",
       "<style scoped>\n",
       "    .dataframe tbody tr th:only-of-type {\n",
       "        vertical-align: middle;\n",
       "    }\n",
       "\n",
       "    .dataframe tbody tr th {\n",
       "        vertical-align: top;\n",
       "    }\n",
       "\n",
       "    .dataframe thead th {\n",
       "        text-align: right;\n",
       "    }\n",
       "</style>\n",
       "<table border=\"1\" class=\"dataframe\">\n",
       "  <thead>\n",
       "    <tr style=\"text-align: right;\">\n",
       "      <th></th>\n",
       "      <th>Column</th>\n",
       "      <th>Has Missing Values?</th>\n",
       "      <th>% Missing Values</th>\n",
       "    </tr>\n",
       "  </thead>\n",
       "  <tbody>\n",
       "    <tr>\n",
       "      <th>0</th>\n",
       "      <td>step</td>\n",
       "      <td>False</td>\n",
       "      <td>0.0</td>\n",
       "    </tr>\n",
       "    <tr>\n",
       "      <th>1</th>\n",
       "      <td>type</td>\n",
       "      <td>False</td>\n",
       "      <td>0.0</td>\n",
       "    </tr>\n",
       "    <tr>\n",
       "      <th>2</th>\n",
       "      <td>amount</td>\n",
       "      <td>False</td>\n",
       "      <td>0.0</td>\n",
       "    </tr>\n",
       "    <tr>\n",
       "      <th>3</th>\n",
       "      <td>nameOrig</td>\n",
       "      <td>False</td>\n",
       "      <td>0.0</td>\n",
       "    </tr>\n",
       "    <tr>\n",
       "      <th>4</th>\n",
       "      <td>oldbalanceOrg</td>\n",
       "      <td>False</td>\n",
       "      <td>0.0</td>\n",
       "    </tr>\n",
       "    <tr>\n",
       "      <th>5</th>\n",
       "      <td>newbalanceOrig</td>\n",
       "      <td>False</td>\n",
       "      <td>0.0</td>\n",
       "    </tr>\n",
       "    <tr>\n",
       "      <th>6</th>\n",
       "      <td>nameDest</td>\n",
       "      <td>False</td>\n",
       "      <td>0.0</td>\n",
       "    </tr>\n",
       "    <tr>\n",
       "      <th>7</th>\n",
       "      <td>oldbalanceDest</td>\n",
       "      <td>False</td>\n",
       "      <td>0.0</td>\n",
       "    </tr>\n",
       "    <tr>\n",
       "      <th>8</th>\n",
       "      <td>newbalanceDest</td>\n",
       "      <td>False</td>\n",
       "      <td>0.0</td>\n",
       "    </tr>\n",
       "    <tr>\n",
       "      <th>9</th>\n",
       "      <td>isFraud</td>\n",
       "      <td>False</td>\n",
       "      <td>0.0</td>\n",
       "    </tr>\n",
       "    <tr>\n",
       "      <th>10</th>\n",
       "      <td>isFlaggedFraud</td>\n",
       "      <td>False</td>\n",
       "      <td>0.0</td>\n",
       "    </tr>\n",
       "  </tbody>\n",
       "</table>\n",
       "</div>"
      ],
      "text/plain": [
       "            Column  Has Missing Values?  % Missing Values\n",
       "0             step                False               0.0\n",
       "1             type                False               0.0\n",
       "2           amount                False               0.0\n",
       "3         nameOrig                False               0.0\n",
       "4    oldbalanceOrg                False               0.0\n",
       "5   newbalanceOrig                False               0.0\n",
       "6         nameDest                False               0.0\n",
       "7   oldbalanceDest                False               0.0\n",
       "8   newbalanceDest                False               0.0\n",
       "9          isFraud                False               0.0\n",
       "10  isFlaggedFraud                False               0.0"
      ]
     },
     "execution_count": 31,
     "metadata": {},
     "output_type": "execute_result"
    }
   ],
   "source": [
    "pd.DataFrame(zip(payments.columns,\n",
    "                 payments.isna().any(),\n",
    "                (payments.isna().sum() / payments.shape[0]) * 100),\n",
    "             columns=['Column', 'Has Missing Values?', '% Missing Values'])\\\n",
    "    .sort_values('% Missing Values', ascending=False)"
   ]
  },
  {
   "cell_type": "markdown",
   "metadata": {},
   "source": [
    "##### Description of Data"
   ]
  },
  {
   "cell_type": "code",
   "execution_count": 32,
   "metadata": {},
   "outputs": [
    {
     "data": {
      "text/html": [
       "<div>\n",
       "<style scoped>\n",
       "    .dataframe tbody tr th:only-of-type {\n",
       "        vertical-align: middle;\n",
       "    }\n",
       "\n",
       "    .dataframe tbody tr th {\n",
       "        vertical-align: top;\n",
       "    }\n",
       "\n",
       "    .dataframe thead th {\n",
       "        text-align: right;\n",
       "    }\n",
       "</style>\n",
       "<table border=\"1\" class=\"dataframe\">\n",
       "  <thead>\n",
       "    <tr style=\"text-align: right;\">\n",
       "      <th></th>\n",
       "      <th>step</th>\n",
       "      <th>amount</th>\n",
       "      <th>oldbalanceOrg</th>\n",
       "      <th>newbalanceOrig</th>\n",
       "      <th>oldbalanceDest</th>\n",
       "      <th>newbalanceDest</th>\n",
       "      <th>isFraud</th>\n",
       "      <th>isFlaggedFraud</th>\n",
       "    </tr>\n",
       "  </thead>\n",
       "  <tbody>\n",
       "    <tr>\n",
       "      <th>count</th>\n",
       "      <td>6.362620e+06</td>\n",
       "      <td>6.362620e+06</td>\n",
       "      <td>6.362620e+06</td>\n",
       "      <td>6.362620e+06</td>\n",
       "      <td>6.362620e+06</td>\n",
       "      <td>6.362620e+06</td>\n",
       "      <td>6.362620e+06</td>\n",
       "      <td>6.362620e+06</td>\n",
       "    </tr>\n",
       "    <tr>\n",
       "      <th>mean</th>\n",
       "      <td>2.433972e+02</td>\n",
       "      <td>1.798619e+05</td>\n",
       "      <td>8.338831e+05</td>\n",
       "      <td>8.551137e+05</td>\n",
       "      <td>1.100702e+06</td>\n",
       "      <td>1.224996e+06</td>\n",
       "      <td>1.290820e-03</td>\n",
       "      <td>2.514687e-06</td>\n",
       "    </tr>\n",
       "    <tr>\n",
       "      <th>std</th>\n",
       "      <td>1.423320e+02</td>\n",
       "      <td>6.038582e+05</td>\n",
       "      <td>2.888243e+06</td>\n",
       "      <td>2.924049e+06</td>\n",
       "      <td>3.399180e+06</td>\n",
       "      <td>3.674129e+06</td>\n",
       "      <td>3.590480e-02</td>\n",
       "      <td>1.585775e-03</td>\n",
       "    </tr>\n",
       "    <tr>\n",
       "      <th>min</th>\n",
       "      <td>1.000000e+00</td>\n",
       "      <td>0.000000e+00</td>\n",
       "      <td>0.000000e+00</td>\n",
       "      <td>0.000000e+00</td>\n",
       "      <td>0.000000e+00</td>\n",
       "      <td>0.000000e+00</td>\n",
       "      <td>0.000000e+00</td>\n",
       "      <td>0.000000e+00</td>\n",
       "    </tr>\n",
       "    <tr>\n",
       "      <th>25%</th>\n",
       "      <td>1.560000e+02</td>\n",
       "      <td>1.338957e+04</td>\n",
       "      <td>0.000000e+00</td>\n",
       "      <td>0.000000e+00</td>\n",
       "      <td>0.000000e+00</td>\n",
       "      <td>0.000000e+00</td>\n",
       "      <td>0.000000e+00</td>\n",
       "      <td>0.000000e+00</td>\n",
       "    </tr>\n",
       "    <tr>\n",
       "      <th>50%</th>\n",
       "      <td>2.390000e+02</td>\n",
       "      <td>7.487194e+04</td>\n",
       "      <td>1.420800e+04</td>\n",
       "      <td>0.000000e+00</td>\n",
       "      <td>1.327057e+05</td>\n",
       "      <td>2.146614e+05</td>\n",
       "      <td>0.000000e+00</td>\n",
       "      <td>0.000000e+00</td>\n",
       "    </tr>\n",
       "    <tr>\n",
       "      <th>75%</th>\n",
       "      <td>3.350000e+02</td>\n",
       "      <td>2.087215e+05</td>\n",
       "      <td>1.073152e+05</td>\n",
       "      <td>1.442584e+05</td>\n",
       "      <td>9.430367e+05</td>\n",
       "      <td>1.111909e+06</td>\n",
       "      <td>0.000000e+00</td>\n",
       "      <td>0.000000e+00</td>\n",
       "    </tr>\n",
       "    <tr>\n",
       "      <th>max</th>\n",
       "      <td>7.430000e+02</td>\n",
       "      <td>9.244552e+07</td>\n",
       "      <td>5.958504e+07</td>\n",
       "      <td>4.958504e+07</td>\n",
       "      <td>3.560159e+08</td>\n",
       "      <td>3.561793e+08</td>\n",
       "      <td>1.000000e+00</td>\n",
       "      <td>1.000000e+00</td>\n",
       "    </tr>\n",
       "  </tbody>\n",
       "</table>\n",
       "</div>"
      ],
      "text/plain": [
       "               step        amount  oldbalanceOrg  newbalanceOrig  \\\n",
       "count  6.362620e+06  6.362620e+06   6.362620e+06    6.362620e+06   \n",
       "mean   2.433972e+02  1.798619e+05   8.338831e+05    8.551137e+05   \n",
       "std    1.423320e+02  6.038582e+05   2.888243e+06    2.924049e+06   \n",
       "min    1.000000e+00  0.000000e+00   0.000000e+00    0.000000e+00   \n",
       "25%    1.560000e+02  1.338957e+04   0.000000e+00    0.000000e+00   \n",
       "50%    2.390000e+02  7.487194e+04   1.420800e+04    0.000000e+00   \n",
       "75%    3.350000e+02  2.087215e+05   1.073152e+05    1.442584e+05   \n",
       "max    7.430000e+02  9.244552e+07   5.958504e+07    4.958504e+07   \n",
       "\n",
       "       oldbalanceDest  newbalanceDest       isFraud  isFlaggedFraud  \n",
       "count    6.362620e+06    6.362620e+06  6.362620e+06    6.362620e+06  \n",
       "mean     1.100702e+06    1.224996e+06  1.290820e-03    2.514687e-06  \n",
       "std      3.399180e+06    3.674129e+06  3.590480e-02    1.585775e-03  \n",
       "min      0.000000e+00    0.000000e+00  0.000000e+00    0.000000e+00  \n",
       "25%      0.000000e+00    0.000000e+00  0.000000e+00    0.000000e+00  \n",
       "50%      1.327057e+05    2.146614e+05  0.000000e+00    0.000000e+00  \n",
       "75%      9.430367e+05    1.111909e+06  0.000000e+00    0.000000e+00  \n",
       "max      3.560159e+08    3.561793e+08  1.000000e+00    1.000000e+00  "
      ]
     },
     "execution_count": 32,
     "metadata": {},
     "output_type": "execute_result"
    }
   ],
   "source": [
    "payments.describe()"
   ]
  },
  {
   "cell_type": "markdown",
   "metadata": {},
   "source": [
    "*The Description explains the dataset is wide*"
   ]
  },
  {
   "cell_type": "markdown",
   "metadata": {},
   "source": [
    "Boxplot of Numeric variables"
   ]
  },
  {
   "cell_type": "code",
   "execution_count": 33,
   "metadata": {},
   "outputs": [
    {
     "name": "stdout",
     "output_type": "stream",
     "text": [
      "BoxPlot of numeric variables\n"
     ]
    },
    {
     "data": {
      "image/png": "[encoded data removed]",
      "text/plain": [
       "<Figure size 1080x360 with 1 Axes>"
      ]
     },
     "metadata": {
      "needs_background": "light"
     },
     "output_type": "display_data"
    }
   ],
   "source": [
    "print(\"BoxPlot of numeric variables\")\n",
    "plot = payments.boxplot(column= ['step', 'amount', 'oldbalanceOrg','newbalanceOrig', 'oldbalanceDest', 'newbalanceDest','isFraud', 'isFlaggedFraud'],figsize=(15, 5))"
   ]
  },
  {
   "cell_type": "markdown",
   "metadata": {},
   "source": [
    "*Tha data set lot of Outliners. Due to its extant the outliers will not be removed*"
   ]
  },
  {
   "cell_type": "markdown",
   "metadata": {},
   "source": [
    "##### Correlation heatmap between the Variables"
   ]
  },
  {
   "cell_type": "code",
   "execution_count": 34,
   "metadata": {},
   "outputs": [
    {
     "name": "stdout",
     "output_type": "stream",
     "text": [
      "Text(0.5, 1, 'Pearson correlation of Features')\n"
     ]
    },
    {
     "data": {
      "image/png": "[encoded data removed]",
      "text/plain": [
       "<Figure size 504x504 with 2 Axes>"
      ]
     },
     "metadata": {
      "needs_background": "light"
     },
     "output_type": "display_data"
    }
   ],
   "source": [
    "corr = payments.corr()\n",
    "\n",
    "f, ax = plt.subplots(figsize=(7,7))\n",
    "cmap = sns.diverging_palette(220, 10,  as_cmap=True)\n",
    "_ = sns.heatmap(corr, cmap=\"YlGn\", ax=ax, annot=True)\n",
    "\n",
    "print(plt.title(\"Pearson correlation of Features\", y=1, size=10))\n",
    "\n",
    "plt.show()"
   ]
  },
  {
   "cell_type": "markdown",
   "metadata": {},
   "source": [
    "*o\tOldbalanceOrg and newbalanceOrg are highly correlatable.*\n",
    "\n",
    "*o\tOldbalanceDest and newbalanceDest are highly correlatable.*\n",
    "\n",
    "*o\tAmount with newbalanceDest and Amount with oldbalanceDest are correlatable*\n",
    "\n",
    "*o\tAt this stage IsFraud is correlatable to the amount only.*\n",
    "\n",
    "\n",
    "*Correlation chart will be again created during Feature engineering by deducing more feature from the given dataset.*\n"
   ]
  },
  {
   "cell_type": "markdown",
   "metadata": {},
   "source": [
    "##### Frequency Distribution of Transaction types"
   ]
  },
  {
   "cell_type": "code",
   "execution_count": 35,
   "metadata": {},
   "outputs": [
    {
     "data": {
      "image/png": "[encoded data removed]",
      "text/plain": [
       "<Figure size 1296x432 with 2 Axes>"
      ]
     },
     "metadata": {
      "needs_background": "light"
     },
     "output_type": "display_data"
    }
   ],
   "source": [
    "# transaction type\n",
    "plt.subplots(1,2, figsize=(18,6))\n",
    "\n",
    "# countplot to visualize the no. of observations under each class\n",
    "plt.subplot(1,2,1)\n",
    "ax = sns.countplot(payments['type'])\n",
    "plt.xlabel('Transaction Type', fontsize=15, fontweight='bold')\n",
    "plt.xticks(fontsize=12, fontweight='bold')\n",
    "plt.ylabel('No. of observations (Millions)', fontsize=15, fontweight='bold')\n",
    "plt.yticks(fontsize=12, fontweight='bold')\n",
    "plt.title('No. of obervations in each transaction type', fontsize=18, fontweight='bold')\n",
    "for i in ax.patches:\n",
    "    # get_x pulls left or right; get_height pushes up or down\n",
    "    ax.text(i.get_x()+0.1, i.get_height(), str(round(i.get_height(), 2)), fontsize=15, color='black')\n",
    "\n",
    "# pie chart to visualize the percentage distribution of each class\n",
    "plt.subplot(1,2,2)\n",
    "plt.pie(payments['type'].value_counts(), labels=['CASH_OUT','PAYMENT','CASH_IN','TRANSFER','DEBIT'], autopct='%.2f')\n",
    "plt.title('Percentage distribution of each transaction type', fontsize=18)\n",
    "\n",
    "# display plot\n",
    "plt.show()"
   ]
  },
  {
   "cell_type": "markdown",
   "metadata": {},
   "source": [
    "##### Frequency distribution with respect to IsFraud class"
   ]
  },
  {
   "cell_type": "code",
   "execution_count": 36,
   "metadata": {},
   "outputs": [
    {
     "data": {
      "text/html": [
       "<div>\n",
       "<style scoped>\n",
       "    .dataframe tbody tr th:only-of-type {\n",
       "        vertical-align: middle;\n",
       "    }\n",
       "\n",
       "    .dataframe tbody tr th {\n",
       "        vertical-align: top;\n",
       "    }\n",
       "\n",
       "    .dataframe thead th {\n",
       "        text-align: right;\n",
       "    }\n",
       "</style>\n",
       "<table border=\"1\" class=\"dataframe\">\n",
       "  <thead>\n",
       "    <tr style=\"text-align: right;\">\n",
       "      <th>isFraud</th>\n",
       "      <th>0</th>\n",
       "      <th>1</th>\n",
       "    </tr>\n",
       "    <tr>\n",
       "      <th>type</th>\n",
       "      <th></th>\n",
       "      <th></th>\n",
       "    </tr>\n",
       "  </thead>\n",
       "  <tbody>\n",
       "    <tr>\n",
       "      <th>CASH_IN</th>\n",
       "      <td>1399284</td>\n",
       "      <td>0</td>\n",
       "    </tr>\n",
       "    <tr>\n",
       "      <th>CASH_OUT</th>\n",
       "      <td>2233384</td>\n",
       "      <td>4116</td>\n",
       "    </tr>\n",
       "    <tr>\n",
       "      <th>DEBIT</th>\n",
       "      <td>41432</td>\n",
       "      <td>0</td>\n",
       "    </tr>\n",
       "    <tr>\n",
       "      <th>PAYMENT</th>\n",
       "      <td>2151495</td>\n",
       "      <td>0</td>\n",
       "    </tr>\n",
       "    <tr>\n",
       "      <th>TRANSFER</th>\n",
       "      <td>528812</td>\n",
       "      <td>4097</td>\n",
       "    </tr>\n",
       "  </tbody>\n",
       "</table>\n",
       "</div>"
      ],
      "text/plain": [
       "isFraud         0     1\n",
       "type                   \n",
       "CASH_IN   1399284     0\n",
       "CASH_OUT  2233384  4116\n",
       "DEBIT       41432     0\n",
       "PAYMENT   2151495     0\n",
       "TRANSFER   528812  4097"
      ]
     },
     "execution_count": 36,
     "metadata": {},
     "output_type": "execute_result"
    }
   ],
   "source": [
    "pd.crosstab(payments.type, payments.isFraud)"
   ]
  },
  {
   "cell_type": "code",
   "execution_count": 37,
   "metadata": {},
   "outputs": [
    {
     "name": "stdout",
     "output_type": "stream",
     "text": [
      "Highest amount and Lowest amount transacted in each transaction type:\n"
     ]
    },
    {
     "data": {
      "text/html": [
       "<div>\n",
       "<style scoped>\n",
       "    .dataframe tbody tr th:only-of-type {\n",
       "        vertical-align: middle;\n",
       "    }\n",
       "\n",
       "    .dataframe tbody tr th {\n",
       "        vertical-align: top;\n",
       "    }\n",
       "\n",
       "    .dataframe thead th {\n",
       "        text-align: right;\n",
       "    }\n",
       "</style>\n",
       "<table border=\"1\" class=\"dataframe\">\n",
       "  <thead>\n",
       "    <tr style=\"text-align: right;\">\n",
       "      <th></th>\n",
       "      <th>type</th>\n",
       "      <th>max</th>\n",
       "      <th>min</th>\n",
       "    </tr>\n",
       "  </thead>\n",
       "  <tbody>\n",
       "    <tr>\n",
       "      <th>0</th>\n",
       "      <td>PAYMENT</td>\n",
       "      <td>238637.98</td>\n",
       "      <td>0.02</td>\n",
       "    </tr>\n",
       "    <tr>\n",
       "      <th>1</th>\n",
       "      <td>TRANSFER</td>\n",
       "      <td>92445516.64</td>\n",
       "      <td>2.60</td>\n",
       "    </tr>\n",
       "    <tr>\n",
       "      <th>2</th>\n",
       "      <td>CASH_OUT</td>\n",
       "      <td>10000000.00</td>\n",
       "      <td>0.00</td>\n",
       "    </tr>\n",
       "    <tr>\n",
       "      <th>3</th>\n",
       "      <td>DEBIT</td>\n",
       "      <td>569077.51</td>\n",
       "      <td>0.55</td>\n",
       "    </tr>\n",
       "    <tr>\n",
       "      <th>4</th>\n",
       "      <td>CASH_IN</td>\n",
       "      <td>1915267.90</td>\n",
       "      <td>0.04</td>\n",
       "    </tr>\n",
       "  </tbody>\n",
       "</table>\n",
       "</div>"
      ],
      "text/plain": [
       "       type          max   min\n",
       "0   PAYMENT    238637.98  0.02\n",
       "1  TRANSFER  92445516.64  2.60\n",
       "2  CASH_OUT  10000000.00  0.00\n",
       "3     DEBIT    569077.51  0.55\n",
       "4   CASH_IN   1915267.90  0.04"
      ]
     },
     "execution_count": 37,
     "metadata": {},
     "output_type": "execute_result"
    }
   ],
   "source": [
    "print(\"Highest amount and Lowest amount transacted in each transaction type:\")\n",
    "lst = []\n",
    "for t_type in payments['type'].unique():\n",
    "    lst.append([t_type,payments.loc[(payments['type'] == t_type), 'amount'].max(), payments.loc[(payments['type'] == t_type), 'amount'].min()])\n",
    "\n",
    "df1 = pd.DataFrame(lst, columns=['type','max','min'])   \n",
    "df1 "
   ]
  },
  {
   "cell_type": "markdown",
   "metadata": {},
   "source": [
    "*Looking at the data, we can see that Transfers and Cash_out has max limits*"
   ]
  },
  {
   "cell_type": "markdown",
   "metadata": {},
   "source": [
    "##### Highest amount and Lowest amount transacted in each Fradulent transaction type"
   ]
  },
  {
   "cell_type": "code",
   "execution_count": 38,
   "metadata": {},
   "outputs": [
    {
     "name": "stdout",
     "output_type": "stream",
     "text": [
      "Highest amount and Lowest amount transacted in Fradulent transaction type:\n"
     ]
    },
    {
     "data": {
      "text/html": [
       "<div>\n",
       "<style scoped>\n",
       "    .dataframe tbody tr th:only-of-type {\n",
       "        vertical-align: middle;\n",
       "    }\n",
       "\n",
       "    .dataframe tbody tr th {\n",
       "        vertical-align: top;\n",
       "    }\n",
       "\n",
       "    .dataframe thead th {\n",
       "        text-align: right;\n",
       "    }\n",
       "</style>\n",
       "<table border=\"1\" class=\"dataframe\">\n",
       "  <thead>\n",
       "    <tr style=\"text-align: right;\">\n",
       "      <th></th>\n",
       "      <th>type</th>\n",
       "      <th>max</th>\n",
       "      <th>min</th>\n",
       "    </tr>\n",
       "  </thead>\n",
       "  <tbody>\n",
       "    <tr>\n",
       "      <th>0</th>\n",
       "      <td>CASH_OUT</td>\n",
       "      <td>10000000.00</td>\n",
       "      <td>0.0</td>\n",
       "    </tr>\n",
       "    <tr>\n",
       "      <th>1</th>\n",
       "      <td>TRANSFER</td>\n",
       "      <td>92445516.64</td>\n",
       "      <td>2.6</td>\n",
       "    </tr>\n",
       "  </tbody>\n",
       "</table>\n",
       "</div>"
      ],
      "text/plain": [
       "       type          max  min\n",
       "0  CASH_OUT  10000000.00  0.0\n",
       "1  TRANSFER  92445516.64  2.6"
      ]
     },
     "execution_count": 38,
     "metadata": {},
     "output_type": "execute_result"
    }
   ],
   "source": [
    "print(\"Highest amount and Lowest amount transacted in Fradulent transaction type:\")\n",
    "a = pd.crosstab(payments.type, payments.isFraud)\n",
    "\n",
    "lst = []\n",
    "for t_type in ['CASH_OUT','TRANSFER']:\n",
    "    lst.append([t_type,payments.loc[(payments['type'] == t_type), 'amount'].max(), payments.loc[(payments['type'] == t_type), 'amount'].min()])\n",
    "\n",
    "df2 = pd.DataFrame(lst, columns=['type','max','min'])   \n",
    "\n",
    "df2"
   ]
  },
  {
   "cell_type": "markdown",
   "metadata": {},
   "source": [
    "##### Amount Lost due to Fradulent Transactions"
   ]
  },
  {
   "cell_type": "code",
   "execution_count": 39,
   "metadata": {},
   "outputs": [
    {
     "data": {
      "text/html": [
       "<div>\n",
       "<style scoped>\n",
       "    .dataframe tbody tr th:only-of-type {\n",
       "        vertical-align: middle;\n",
       "    }\n",
       "\n",
       "    .dataframe tbody tr th {\n",
       "        vertical-align: top;\n",
       "    }\n",
       "\n",
       "    .dataframe thead th {\n",
       "        text-align: right;\n",
       "    }\n",
       "</style>\n",
       "<table border=\"1\" class=\"dataframe\">\n",
       "  <thead>\n",
       "    <tr style=\"text-align: right;\">\n",
       "      <th></th>\n",
       "      <th>type</th>\n",
       "      <th>sum</th>\n",
       "    </tr>\n",
       "  </thead>\n",
       "  <tbody>\n",
       "    <tr>\n",
       "      <th>0</th>\n",
       "      <td>CASH_OUT</td>\n",
       "      <td>$5,989,202,243.83</td>\n",
       "    </tr>\n",
       "    <tr>\n",
       "      <th>1</th>\n",
       "      <td>TRANSFER</td>\n",
       "      <td>$6,067,213,184.01</td>\n",
       "    </tr>\n",
       "  </tbody>\n",
       "</table>\n",
       "</div>"
      ],
      "text/plain": [
       "       type                sum\n",
       "0  CASH_OUT  $5,989,202,243.83\n",
       "1  TRANSFER  $6,067,213,184.01"
      ]
     },
     "execution_count": 39,
     "metadata": {},
     "output_type": "execute_result"
    }
   ],
   "source": [
    "lst = []\n",
    "for t_type in ['CASH_OUT','TRANSFER']:\n",
    "    lst.append([t_type,\"${:,.2f}\".format(payments.loc[((payments['type'] == t_type) & (payments['isFraud'] == 1)), 'amount'].sum())])\n",
    "\n",
    "df3 = pd.DataFrame(lst, columns=['type','sum'])  \n",
    "\n",
    "df3"
   ]
  },
  {
   "cell_type": "markdown",
   "metadata": {},
   "source": [
    "### **Feature Engineering**"
   ]
  },
  {
   "cell_type": "markdown",
   "metadata": {},
   "source": [
    "Understanding the Type of Interaction/Transaction"
   ]
  },
  {
   "cell_type": "code",
   "execution_count": 40,
   "metadata": {},
   "outputs": [],
   "source": [
    "# transaction type\n",
    "payments['transactionBetween'] = payments['nameDest'].apply(lambda x: 'Customer2Customer' if x[0] == \"C\" else 'Customer2Merchant')"
   ]
  },
  {
   "cell_type": "markdown",
   "metadata": {},
   "source": [
    "Frequency distribution of Interaction types and with respect to isFraud Class"
   ]
  },
  {
   "cell_type": "code",
   "execution_count": 41,
   "metadata": {},
   "outputs": [
    {
     "data": {
      "image/png": "[encoded data removed]",
      "text/plain": [
       "<Figure size 432x288 with 1 Axes>"
      ]
     },
     "metadata": {},
     "output_type": "display_data"
    }
   ],
   "source": [
    "tb = sns.countplot(payments['transactionBetween'])\n",
    "for i in tb.patches:\n",
    "    # get_x pulls left or right; get_height pushes up or down\n",
    "    tb.text(i.get_x()+0.1, i.get_height(), str(round(i.get_height(), 2)), fontsize=15, color='black')\n",
    "\n",
    "plt.subplot(1,2,2)\n",
    "plt.pie(payments['transactionBetween'].value_counts(), labels=['Customer2Customer','Customer2Merchant'], autopct='%.2f')\n",
    "plt.title('Percentage distribution of each Interaction', fontsize=15)\n",
    "\n",
    "# display plot\n",
    "plt.show()\n",
    "\n"
   ]
  },
  {
   "cell_type": "code",
   "execution_count": 42,
   "metadata": {},
   "outputs": [
    {
     "name": "stdout",
     "output_type": "stream",
     "text": [
      "No of Fraudulents in Each TransactionBetween\n"
     ]
    },
    {
     "data": {
      "text/html": [
       "<div>\n",
       "<style scoped>\n",
       "    .dataframe tbody tr th:only-of-type {\n",
       "        vertical-align: middle;\n",
       "    }\n",
       "\n",
       "    .dataframe tbody tr th {\n",
       "        vertical-align: top;\n",
       "    }\n",
       "\n",
       "    .dataframe thead th {\n",
       "        text-align: right;\n",
       "    }\n",
       "</style>\n",
       "<table border=\"1\" class=\"dataframe\">\n",
       "  <thead>\n",
       "    <tr style=\"text-align: right;\">\n",
       "      <th>isFraud</th>\n",
       "      <th>0</th>\n",
       "      <th>1</th>\n",
       "    </tr>\n",
       "    <tr>\n",
       "      <th>transactionBetween</th>\n",
       "      <th></th>\n",
       "      <th></th>\n",
       "    </tr>\n",
       "  </thead>\n",
       "  <tbody>\n",
       "    <tr>\n",
       "      <th>Customer2Customer</th>\n",
       "      <td>4202912</td>\n",
       "      <td>8213</td>\n",
       "    </tr>\n",
       "    <tr>\n",
       "      <th>Customer2Merchant</th>\n",
       "      <td>2151495</td>\n",
       "      <td>0</td>\n",
       "    </tr>\n",
       "  </tbody>\n",
       "</table>\n",
       "</div>"
      ],
      "text/plain": [
       "isFraud                   0     1\n",
       "transactionBetween               \n",
       "Customer2Customer   4202912  8213\n",
       "Customer2Merchant   2151495     0"
      ]
     },
     "execution_count": 42,
     "metadata": {},
     "output_type": "execute_result"
    }
   ],
   "source": [
    "print('No of Fraudulents in Each TransactionBetween')\n",
    "pd.crosstab(payments.transactionBetween, payments.isFraud)"
   ]
  },
  {
   "cell_type": "markdown",
   "metadata": {},
   "source": [
    "*The Crosstab table shows that most of the transactions happened between Customer to Customer transactions*"
   ]
  },
  {
   "cell_type": "markdown",
   "metadata": {},
   "source": [
    "##### Calculating Error between the Amounts and the Balance between Origin and destination start and end Balance"
   ]
  },
  {
   "cell_type": "code",
   "execution_count": 43,
   "metadata": {},
   "outputs": [],
   "source": [
    "\n",
    "payments['errorBalanceOrig'] = payments['newbalanceOrig'] + payments['amount'] - payments['oldbalanceOrg']\n",
    "\n",
    "payments['errorBalanceDest'] = payments['oldbalanceDest'] + payments['amount'] - payments['newbalanceDest']"
   ]
  },
  {
   "cell_type": "code",
   "execution_count": 44,
   "metadata": {},
   "outputs": [],
   "source": [
    "payments['errorBalanceOrig_flag'] = payments['errorBalanceOrig'].apply(lambda x: 0 if x == 0 else 1)\n",
    "\n",
    "payments['errorBalanceDest_flag'] = payments['errorBalanceDest'].apply(lambda x: 0 if x == 0 else 1)"
   ]
  },
  {
   "cell_type": "markdown",
   "metadata": {},
   "source": [
    "Creating Flags with respect to Errors"
   ]
  },
  {
   "cell_type": "code",
   "execution_count": 45,
   "metadata": {},
   "outputs": [],
   "source": [
    "def flag(x):\n",
    "    if x[0] == 0 and x[1] == 0:\n",
    "        return 0\n",
    "    return 1"
   ]
  },
  {
   "cell_type": "code",
   "execution_count": 46,
   "metadata": {},
   "outputs": [],
   "source": [
    "payments['Flag'] = payments.apply(flag,axis=1)"
   ]
  },
  {
   "cell_type": "code",
   "execution_count": 47,
   "metadata": {},
   "outputs": [
    {
     "data": {
      "text/plain": [
       "1    6362620\n",
       "Name: Flag, dtype: int64"
      ]
     },
     "execution_count": 47,
     "metadata": {},
     "output_type": "execute_result"
    }
   ],
   "source": [
    "payments['Flag'].value_counts()"
   ]
  },
  {
   "cell_type": "markdown",
   "metadata": {},
   "source": [
    "*Based on the End of Results, The Flag has not featched any clarity as all the transactions has some errors with respect to balances*"
   ]
  },
  {
   "cell_type": "markdown",
   "metadata": {},
   "source": [
    "##### Transactions per hour and Description Analysis of the Transaction with respect to Time"
   ]
  },
  {
   "cell_type": "code",
   "execution_count": 48,
   "metadata": {},
   "outputs": [],
   "source": [
    "# transaction hour\n",
    "payments['transactionHour'] = payments['step'] % 24\n",
    "# converting into object type\n",
    "payments['transactionHour'] = payments['transactionHour'].astype('object')"
   ]
  },
  {
   "cell_type": "code",
   "execution_count": 49,
   "metadata": {},
   "outputs": [
    {
     "data": {
      "image/png": "[encoded data removed]",
      "text/plain": [
       "<Figure size 1080x432 with 1 Axes>"
      ]
     },
     "metadata": {
      "needs_background": "light"
     },
     "output_type": "display_data"
    }
   ],
   "source": [
    "plt.figure(figsize=(15,6))\n",
    "ax = (payments['transactionHour'].value_counts(sort = False,normalize=True)* 100).plot(kind = 'bar')\n",
    "for i in ax.patches:\n",
    "    # get_x pulls left or right; get_height pushes up or down\n",
    "    ax.text(i.get_x(), i.get_height(), str(round(i.get_height(), 2)) + \"%\", fontsize=12, color='black')\n",
    "plt.title('No. of obervations at each hour', fontsize=20, fontweight='bold')\n",
    "plt.xlabel('Transaction by hour', fontsize=15, fontweight='bold')\n",
    "plt.ylabel('Percentage of observations', fontsize=15, fontweight='bold')\n",
    "plt.show()"
   ]
  },
  {
   "cell_type": "markdown",
   "metadata": {},
   "source": [
    "*The data depects that most transactions happen during business hours*"
   ]
  },
  {
   "cell_type": "code",
   "execution_count": 50,
   "metadata": {},
   "outputs": [
    {
     "data": {
      "image/png": "[encoded data removed]",
      "text/plain": [
       "<Figure size 1080x432 with 1 Axes>"
      ]
     },
     "metadata": {
      "needs_background": "light"
     },
     "output_type": "display_data"
    }
   ],
   "source": [
    "# avg. transaction amount at each hour for each transaction type\n",
    "plt.figure(figsize=(15,6))\n",
    "sns.lineplot(data=payments\n",
    "                .groupby(['transactionHour','type'])\n",
    "                .agg({'amount' : 'mean'})\n",
    "                .round(2).reset_index(),\n",
    "             x='transactionHour',\n",
    "             y='amount',\n",
    "             hue='type')\n",
    "plt.xlabel('Transaction by hour', fontsize=10, fontweight='bold')\n",
    "plt.xticks(range(24), range(24))\n",
    "plt.ylabel('Average transaction amount', fontsize=10, fontweight='bold')\n",
    "plt.title('Average transaction amount at each hour', fontsize=20, fontweight='bold')\n",
    "plt.show()"
   ]
  },
  {
   "cell_type": "markdown",
   "metadata": {},
   "source": [
    "*Observations:*\n",
    "\n",
    "*Average amount for Transfer type transactions peak at 3 hrs and 16 hrs.*\n",
    "\n",
    "*Average amount for Cash-Out type transactions peak between 3 hrs and 5 hrs.*\n",
    "\n",
    "*Average amount for Cash-In type transactions is stable through out the day.*\n",
    "\n",
    "*Average amount for Debit and Payment type transactions peak between 9 hrs and 13 hrs.*"
   ]
  },
  {
   "cell_type": "code",
   "execution_count": 51,
   "metadata": {},
   "outputs": [
    {
     "data": {
      "image/png": "[encoded data removed]",
      "text/plain": [
       "<Figure size 1296x432 with 1 Axes>"
      ]
     },
     "metadata": {
      "needs_background": "light"
     },
     "output_type": "display_data"
    }
   ],
   "source": [
    "# no. of. transaction amount at each hour for each transaction type\n",
    "plt.figure(figsize=(18,6))\n",
    "sns.barplot(data=payments.groupby(['transactionHour','transactionBetween']).size().reset_index(),\n",
    "            x='transactionHour',\n",
    "            y=0,\n",
    "            hue='transactionBetween',\n",
    "            dodge=False,\n",
    "            alpha=0.75)\n",
    "plt.xlabel('Transaction by hour', fontsize=15, fontweight='bold')\n",
    "plt.xticks(range(24), range(24))\n",
    "plt.ylabel('No. of transactions', fontsize=15, fontweight='bold')\n",
    "plt.title('Transaction type at each hour', fontsize=22, fontweight='bold')\n",
    "plt.show()"
   ]
  },
  {
   "cell_type": "markdown",
   "metadata": {},
   "source": [
    "Observations:\n",
    "\n",
    "During day, Customer to Customer transactions are greater than Customer to Merchant transactions.\n",
    "During mid-night, Customer to Merchant transactions are greater than Customer to Customer transactions."
   ]
  },
  {
   "cell_type": "markdown",
   "metadata": {},
   "source": [
    "##### Analysis on Fraudulent Transactions Data with respect to Time"
   ]
  },
  {
   "cell_type": "code",
   "execution_count": 52,
   "metadata": {},
   "outputs": [],
   "source": [
    "payments_fraud = payments[payments['isFraud'] == 1]"
   ]
  },
  {
   "cell_type": "code",
   "execution_count": 53,
   "metadata": {},
   "outputs": [
    {
     "data": {
      "image/png": "[encoded data removed]",
      "text/plain": [
       "<Figure size 1296x864 with 2 Axes>"
      ]
     },
     "metadata": {
      "needs_background": "light"
     },
     "output_type": "display_data"
    }
   ],
   "source": [
    "# when does fraud happen? (time of day)\n",
    "plt.subplots(2,1, figsize=(18,12))\n",
    "\n",
    "# actual count of fraud cases\n",
    "plt.subplot(2,1,1)\n",
    "ax=payments_fraud.groupby('transactionHour').size().plot(kind='bar')\n",
    "plt.xlabel('Transaction hour', fontsize=15, fontweight='bold')\n",
    "plt.xticks(range(24), range(24))\n",
    "plt.ylabel('No. of fraudulent transactions', fontsize=15, fontweight='bold')\n",
    "plt.title('Fraudelent transaction at each hour', fontsize=22, fontweight='bold')\n",
    "for i in ax.patches:\n",
    "    # get_x pulls left or right; get_height pushes up or down\n",
    "    ax.text(i.get_x(), i.get_height()+3, str(round(i.get_height(), 2)), fontsize=14, color='black')\n",
    "\n",
    "# proportion of fraud\n",
    "plt.subplot(2,1,2)\n",
    "ax = (payments_fraud['transactionHour'].value_counts(sort = False,normalize=True)* 100).plot(kind = 'bar')\n",
    "for i in ax.patches:\n",
    "    # get_x pulls left or right; get_height pushes up or down\n",
    "    ax.text(i.get_x(), i.get_height(), str(round(i.get_height(), 2)) + \"%\", fontsize=12, color='black')\n",
    "plt.title('No. of obervations at each hour', fontsize=20, fontweight='bold')\n",
    "plt.xlabel('Transaction by hour', fontsize=15, fontweight='bold')\n",
    "plt.ylabel('Percentage of observations', fontsize=15, fontweight='bold')\n",
    "plt.show()"
   ]
  },
  {
   "cell_type": "markdown",
   "metadata": {},
   "source": [
    "*Fraudulent Transactions are consistent with Time. there is no major deviations*"
   ]
  },
  {
   "cell_type": "code",
   "execution_count": 54,
   "metadata": {},
   "outputs": [
    {
     "data": {
      "image/png": "[encoded data removed]",
      "text/plain": [
       "<Figure size 1296x432 with 1 Axes>"
      ]
     },
     "metadata": {
      "needs_background": "light"
     },
     "output_type": "display_data"
    }
   ],
   "source": [
    "# when does fraud happen? (time of day)\n",
    "plt.figure(figsize=(18,6))\n",
    "ax=sns.barplot(data=payments_fraud.groupby(['transactionHour','type']).size().reset_index(),\n",
    "               x='transactionHour',\n",
    "               y=0,\n",
    "               hue='type')\n",
    "plt.xlabel('Transaction hour', fontsize=15, fontweight='bold')\n",
    "plt.xticks(range(24), range(24),fontsize=15, fontweight='bold', rotation=0)\n",
    "plt.ylabel('No. of fraudulent transactions', fontsize=15, fontweight='bold')\n",
    "plt.yticks(fontsize=15, fontweight='bold')\n",
    "plt.title('Fraudelent transaction at each hour', fontsize=22, fontweight='bold')\n",
    "plt.show()"
   ]
  },
  {
   "cell_type": "markdown",
   "metadata": {},
   "source": [
    "*No much difference in Fradulents with respect to Cash_Out and Transfers*"
   ]
  },
  {
   "cell_type": "code",
   "execution_count": 55,
   "metadata": {},
   "outputs": [
    {
     "data": {
      "image/png": "[encoded data removed]",
      "text/plain": [
       "<Figure size 1296x432 with 1 Axes>"
      ]
     },
     "metadata": {
      "needs_background": "light"
     },
     "output_type": "display_data"
    }
   ],
   "source": [
    "# avg. transaction amount at each hour for each transaction type\n",
    "plt.figure(figsize=(18,6))\n",
    "sns.barplot(data=payments_fraud.groupby(['transactionHour','transactionBetween']).size().reset_index(),\n",
    "            x='transactionHour',\n",
    "            y=0,\n",
    "            hue='transactionBetween',\n",
    "            dodge=False,\n",
    "            alpha=0.75)\n",
    "plt.xlabel('Transaction by hour', fontsize=15, fontweight='bold')\n",
    "plt.xticks(range(24), range(24))\n",
    "plt.ylabel('No. of transactions', fontsize=15, fontweight='bold')\n",
    "plt.title('Transaction type at each hour', fontsize=22, fontweight='bold')\n",
    "plt.show()"
   ]
  },
  {
   "cell_type": "markdown",
   "metadata": {},
   "source": [
    "*No much variation or anomolies with Fradulent transactions by Time*"
   ]
  },
  {
   "cell_type": "markdown",
   "metadata": {},
   "source": [
    "##### Start and End of Transactions of Origin and Destination are Zero and Analysis with isFraud Flag"
   ]
  },
  {
   "cell_type": "code",
   "execution_count": 56,
   "metadata": {},
   "outputs": [],
   "source": [
    "# flag to indicate whether both old and new balance in origin account are zero\n",
    "payments['zeroBalanceOrig'] = payments['oldbalanceOrg'] + payments['newbalanceOrig']\n",
    "payments['zeroBalanceOrig'] = payments['zeroBalanceOrig'].apply(lambda x: 1 if x == 0 else 0)"
   ]
  },
  {
   "cell_type": "code",
   "execution_count": 57,
   "metadata": {},
   "outputs": [],
   "source": [
    "# flag to indicate whether both old and new balance in destination account are zero\n",
    "payments['zeroBalanceDest'] = payments['oldbalanceDest'] + payments['newbalanceDest']\n",
    "payments['zeroBalanceDest'] = payments['zeroBalanceDest'].apply(lambda x: 1 if x == 0 else 0)"
   ]
  },
  {
   "cell_type": "code",
   "execution_count": 58,
   "metadata": {},
   "outputs": [],
   "source": [
    "def with_hue(plot, feature, Number_of_categories, hue_categories):\n",
    "    a = [p.get_height() for p in plot.patches]\n",
    "    patch = [p for p in plot.patches]\n",
    "    for i in range(Number_of_categories):\n",
    "        total = feature.value_counts().values[i]\n",
    "        for j in range(hue_categories):\n",
    "            percentage = '{:.1f}%'.format(100 * a[(j*Number_of_categories + i)]/total)\n",
    "            x = patch[(j*Number_of_categories + i)].get_x() + patch[(j*Number_of_categories + i)].get_width() / 2 - 0.15\n",
    "            y = patch[(j*Number_of_categories + i)].get_y() + patch[(j*Number_of_categories + i)].get_height() \n",
    "            ax.annotate(percentage, (x, y), size = 12)\n",
    "    plt.show()\n",
    "\n",
    "def without_hue(plot, feature):\n",
    "    total = len(feature)\n",
    "    for p in ax.patches:\n",
    "        percentage = '{:.1f}%'.format(100 * p.get_height()/total)\n",
    "        x = p.get_x() + p.get_width() / 2 - 0.05\n",
    "        y = p.get_y() + p.get_height()\n",
    "        ax.annotate(percentage, (x, y), size = 12)\n",
    "    plt.show()"
   ]
  },
  {
   "cell_type": "code",
   "execution_count": 59,
   "metadata": {},
   "outputs": [
    {
     "name": "stdout",
     "output_type": "stream",
     "text": [
      "isFraud                0     1\n",
      "zeroBalanceOrig               \n",
      "0                4265463  8172\n",
      "1                2088944    41\n"
     ]
    },
    {
     "data": {
      "image/png": "[encoded data removed]",
      "text/plain": [
       "<Figure size 288x432 with 1 Axes>"
      ]
     },
     "metadata": {
      "needs_background": "light"
     },
     "output_type": "display_data"
    }
   ],
   "source": [
    "print(pd.crosstab(payments.zeroBalanceOrig, payments.isFraud))\n",
    "plt.figure(figsize=(4,6))\n",
    "ax = sns.countplot('zeroBalanceOrig', hue = 'isFraud', data = payments)\n",
    "\n",
    "with_hue(ax,payments.zeroBalanceOrig,2,2)"
   ]
  },
  {
   "cell_type": "markdown",
   "metadata": {},
   "source": [
    "*No much Reason to indicate if the zero balance in origin will be fradulent*"
   ]
  },
  {
   "cell_type": "code",
   "execution_count": 60,
   "metadata": {},
   "outputs": [
    {
     "name": "stdout",
     "output_type": "stream",
     "text": [
      "isFraud                0     1\n",
      "zeroBalanceDest               \n",
      "0                4041201  4137\n",
      "1                2313206  4076\n"
     ]
    },
    {
     "data": {
      "image/png": "[encoded data removed]",
      "text/plain": [
       "<Figure size 288x432 with 1 Axes>"
      ]
     },
     "metadata": {
      "needs_background": "light"
     },
     "output_type": "display_data"
    }
   ],
   "source": [
    "print(pd.crosstab(payments.zeroBalanceDest, payments.isFraud))\n",
    "plt.figure(figsize=(4,6))\n",
    "ax = sns.countplot('zeroBalanceDest', hue = 'isFraud', data = payments)\n",
    "\n",
    "with_hue(ax,payments.zeroBalanceDest,2,2)"
   ]
  },
  {
   "cell_type": "markdown",
   "metadata": {},
   "source": [
    "*No much Reason to indicate if the zero balance in Destination will be fradulent*"
   ]
  },
  {
   "cell_type": "markdown",
   "metadata": {},
   "source": [
    "##### Find if same origin account name have frauded more than once"
   ]
  },
  {
   "cell_type": "code",
   "execution_count": 67,
   "metadata": {},
   "outputs": [],
   "source": [
    "main_1 = payments[payments['isFraud'] == 1]\n",
    "len(main_1)"
   ]
  },
  {
   "cell_type": "code",
   "execution_count": 61,
   "metadata": {},
   "outputs": [],
   "source": [
    "orig_agg = pd.DataFrame(data = payments, columns= ['nameOrig','isFraud'])\n",
    "grouped_df_org = orig_agg.groupby(\"nameOrig\")\n",
    "sums_org = grouped_df_org.sum()\n",
    "sums_org = sums_org.reset_index()\n"
   ]
  },
  {
   "cell_type": "markdown",
   "metadata": {},
   "source": [
    "Find if same Destination account name have frauded more than once"
   ]
  },
  {
   "cell_type": "code",
   "execution_count": 62,
   "metadata": {},
   "outputs": [],
   "source": [
    "dest_agg = pd.DataFrame(data = payments, columns= ['nameDest','isFraud'])\n",
    "grouped_df_dest = dest_agg.groupby(\"nameDest\")\n",
    "sums_dest = grouped_df_dest.sum()\n",
    "sums_dest = sums_dest.reset_index()"
   ]
  },
  {
   "cell_type": "code",
   "execution_count": 71,
   "metadata": {},
   "outputs": [
    {
     "name": "stdout",
     "output_type": "stream",
     "text": [
      "Frauds from Main data: 8213\n",
      "Fraud origin accounts has ever been Fradulent more than once: 8213\n",
      "Fraud Destination accounts has ever been Fradulent more than once : 8169\n"
     ]
    }
   ],
   "source": [
    "print(\"Frauds from Main data:\",len(main_1))\n",
    "print(\"Fraud origin accounts has ever been Fradulent more than once:\",len(sums_org[sums_org['isFraud'] > 0]))\n",
    "print(\"Fraud Destination accounts has ever been Fradulent more than once :\", len(sums_dest[sums_dest['isFraud'] > 0]))"
   ]
  },
  {
   "cell_type": "markdown",
   "metadata": {},
   "source": [
    "*Based on the results we can see that not much difference between the main Frauds, Fraud origin accounts has ever been Fradulent more than once and Fraud Destination accounts has ever been Fradulent more than once*"
   ]
  },
  {
   "cell_type": "markdown",
   "metadata": {},
   "source": [
    "### **Feature Selection**"
   ]
  },
  {
   "cell_type": "markdown",
   "metadata": {},
   "source": [
    "Changing TransactionHour Column to numeric for Feature selection"
   ]
  },
  {
   "cell_type": "code",
   "execution_count": 72,
   "metadata": {},
   "outputs": [],
   "source": [
    "payments[[\"transactionHour\"]] = payments[[\"transactionHour\"]].apply(pd.to_numeric)"
   ]
  },
  {
   "cell_type": "code",
   "execution_count": 73,
   "metadata": {},
   "outputs": [
    {
     "name": "stdout",
     "output_type": "stream",
     "text": [
      "Text(0.5, 1, 'Pearson correlation of Features')\n"
     ]
    },
    {
     "data": {
      "image/png": "[encoded data removed]",
      "text/plain": [
       "<Figure size 720x720 with 2 Axes>"
      ]
     },
     "metadata": {
      "needs_background": "light"
     },
     "output_type": "display_data"
    }
   ],
   "source": [
    "corr = payments.corr()\n",
    "\n",
    "f, ax = plt.subplots(figsize=(10,10))\n",
    "cmap = sns.diverging_palette(220, 10,  as_cmap=True)\n",
    "_ = sns.heatmap(corr, cmap=\"YlGn\", ax=ax, annot=True)\n",
    "\n",
    "print(plt.title(\"Pearson correlation of Features\", y=1, size=10))\n",
    "\n",
    "plt.show()"
   ]
  },
  {
   "cell_type": "markdown",
   "metadata": {},
   "source": [
    "*Based on the data: decided to remove isFlaggedFraud,nameOrig, nameDest and Flag Features*"
   ]
  },
  {
   "cell_type": "code",
   "execution_count": 74,
   "metadata": {},
   "outputs": [],
   "source": [
    "payments = payments.drop(columns=['isFlaggedFraud','nameOrig','nameDest','Flag'])"
   ]
  },
  {
   "cell_type": "code",
   "execution_count": 75,
   "metadata": {},
   "outputs": [
    {
     "data": {
      "text/html": [
       "<div>\n",
       "<style scoped>\n",
       "    .dataframe tbody tr th:only-of-type {\n",
       "        vertical-align: middle;\n",
       "    }\n",
       "\n",
       "    .dataframe tbody tr th {\n",
       "        vertical-align: top;\n",
       "    }\n",
       "\n",
       "    .dataframe thead th {\n",
       "        text-align: right;\n",
       "    }\n",
       "</style>\n",
       "<table border=\"1\" class=\"dataframe\">\n",
       "  <thead>\n",
       "    <tr style=\"text-align: right;\">\n",
       "      <th></th>\n",
       "      <th>step</th>\n",
       "      <th>type</th>\n",
       "      <th>amount</th>\n",
       "      <th>oldbalanceOrg</th>\n",
       "      <th>newbalanceOrig</th>\n",
       "      <th>oldbalanceDest</th>\n",
       "      <th>newbalanceDest</th>\n",
       "      <th>isFraud</th>\n",
       "      <th>transactionBetween</th>\n",
       "      <th>errorBalanceOrig</th>\n",
       "      <th>errorBalanceDest</th>\n",
       "      <th>errorBalanceOrig_flag</th>\n",
       "      <th>errorBalanceDest_flag</th>\n",
       "      <th>transactionHour</th>\n",
       "      <th>zeroBalanceOrig</th>\n",
       "      <th>zeroBalanceDest</th>\n",
       "    </tr>\n",
       "  </thead>\n",
       "  <tbody>\n",
       "    <tr>\n",
       "      <th>0</th>\n",
       "      <td>1</td>\n",
       "      <td>PAYMENT</td>\n",
       "      <td>9839.64</td>\n",
       "      <td>170136.00</td>\n",
       "      <td>160296.36</td>\n",
       "      <td>0.00</td>\n",
       "      <td>0.00</td>\n",
       "      <td>0</td>\n",
       "      <td>Customer2Merchant</td>\n",
       "      <td>0.0</td>\n",
       "      <td>9.839640e+03</td>\n",
       "      <td>0</td>\n",
       "      <td>1</td>\n",
       "      <td>1</td>\n",
       "      <td>0</td>\n",
       "      <td>1</td>\n",
       "    </tr>\n",
       "    <tr>\n",
       "      <th>1</th>\n",
       "      <td>1</td>\n",
       "      <td>PAYMENT</td>\n",
       "      <td>1864.28</td>\n",
       "      <td>21249.00</td>\n",
       "      <td>19384.72</td>\n",
       "      <td>0.00</td>\n",
       "      <td>0.00</td>\n",
       "      <td>0</td>\n",
       "      <td>Customer2Merchant</td>\n",
       "      <td>0.0</td>\n",
       "      <td>1.864280e+03</td>\n",
       "      <td>0</td>\n",
       "      <td>1</td>\n",
       "      <td>1</td>\n",
       "      <td>0</td>\n",
       "      <td>1</td>\n",
       "    </tr>\n",
       "    <tr>\n",
       "      <th>2</th>\n",
       "      <td>1</td>\n",
       "      <td>TRANSFER</td>\n",
       "      <td>181.00</td>\n",
       "      <td>181.00</td>\n",
       "      <td>0.00</td>\n",
       "      <td>0.00</td>\n",
       "      <td>0.00</td>\n",
       "      <td>1</td>\n",
       "      <td>Customer2Customer</td>\n",
       "      <td>0.0</td>\n",
       "      <td>1.810000e+02</td>\n",
       "      <td>0</td>\n",
       "      <td>1</td>\n",
       "      <td>1</td>\n",
       "      <td>0</td>\n",
       "      <td>1</td>\n",
       "    </tr>\n",
       "    <tr>\n",
       "      <th>3</th>\n",
       "      <td>1</td>\n",
       "      <td>CASH_OUT</td>\n",
       "      <td>181.00</td>\n",
       "      <td>181.00</td>\n",
       "      <td>0.00</td>\n",
       "      <td>21182.00</td>\n",
       "      <td>0.00</td>\n",
       "      <td>1</td>\n",
       "      <td>Customer2Customer</td>\n",
       "      <td>0.0</td>\n",
       "      <td>2.136300e+04</td>\n",
       "      <td>0</td>\n",
       "      <td>1</td>\n",
       "      <td>1</td>\n",
       "      <td>0</td>\n",
       "      <td>0</td>\n",
       "    </tr>\n",
       "    <tr>\n",
       "      <th>4</th>\n",
       "      <td>1</td>\n",
       "      <td>PAYMENT</td>\n",
       "      <td>11668.14</td>\n",
       "      <td>41554.00</td>\n",
       "      <td>29885.86</td>\n",
       "      <td>0.00</td>\n",
       "      <td>0.00</td>\n",
       "      <td>0</td>\n",
       "      <td>Customer2Merchant</td>\n",
       "      <td>0.0</td>\n",
       "      <td>1.166814e+04</td>\n",
       "      <td>0</td>\n",
       "      <td>1</td>\n",
       "      <td>1</td>\n",
       "      <td>0</td>\n",
       "      <td>1</td>\n",
       "    </tr>\n",
       "    <tr>\n",
       "      <th>...</th>\n",
       "      <td>...</td>\n",
       "      <td>...</td>\n",
       "      <td>...</td>\n",
       "      <td>...</td>\n",
       "      <td>...</td>\n",
       "      <td>...</td>\n",
       "      <td>...</td>\n",
       "      <td>...</td>\n",
       "      <td>...</td>\n",
       "      <td>...</td>\n",
       "      <td>...</td>\n",
       "      <td>...</td>\n",
       "      <td>...</td>\n",
       "      <td>...</td>\n",
       "      <td>...</td>\n",
       "      <td>...</td>\n",
       "    </tr>\n",
       "    <tr>\n",
       "      <th>6362615</th>\n",
       "      <td>743</td>\n",
       "      <td>CASH_OUT</td>\n",
       "      <td>339682.13</td>\n",
       "      <td>339682.13</td>\n",
       "      <td>0.00</td>\n",
       "      <td>0.00</td>\n",
       "      <td>339682.13</td>\n",
       "      <td>1</td>\n",
       "      <td>Customer2Customer</td>\n",
       "      <td>0.0</td>\n",
       "      <td>0.000000e+00</td>\n",
       "      <td>0</td>\n",
       "      <td>0</td>\n",
       "      <td>23</td>\n",
       "      <td>0</td>\n",
       "      <td>0</td>\n",
       "    </tr>\n",
       "    <tr>\n",
       "      <th>6362616</th>\n",
       "      <td>743</td>\n",
       "      <td>TRANSFER</td>\n",
       "      <td>6311409.28</td>\n",
       "      <td>6311409.28</td>\n",
       "      <td>0.00</td>\n",
       "      <td>0.00</td>\n",
       "      <td>0.00</td>\n",
       "      <td>1</td>\n",
       "      <td>Customer2Customer</td>\n",
       "      <td>0.0</td>\n",
       "      <td>6.311409e+06</td>\n",
       "      <td>0</td>\n",
       "      <td>1</td>\n",
       "      <td>23</td>\n",
       "      <td>0</td>\n",
       "      <td>1</td>\n",
       "    </tr>\n",
       "    <tr>\n",
       "      <th>6362617</th>\n",
       "      <td>743</td>\n",
       "      <td>CASH_OUT</td>\n",
       "      <td>6311409.28</td>\n",
       "      <td>6311409.28</td>\n",
       "      <td>0.00</td>\n",
       "      <td>68488.84</td>\n",
       "      <td>6379898.11</td>\n",
       "      <td>1</td>\n",
       "      <td>Customer2Customer</td>\n",
       "      <td>0.0</td>\n",
       "      <td>1.000000e-02</td>\n",
       "      <td>0</td>\n",
       "      <td>1</td>\n",
       "      <td>23</td>\n",
       "      <td>0</td>\n",
       "      <td>0</td>\n",
       "    </tr>\n",
       "    <tr>\n",
       "      <th>6362618</th>\n",
       "      <td>743</td>\n",
       "      <td>TRANSFER</td>\n",
       "      <td>850002.52</td>\n",
       "      <td>850002.52</td>\n",
       "      <td>0.00</td>\n",
       "      <td>0.00</td>\n",
       "      <td>0.00</td>\n",
       "      <td>1</td>\n",
       "      <td>Customer2Customer</td>\n",
       "      <td>0.0</td>\n",
       "      <td>8.500025e+05</td>\n",
       "      <td>0</td>\n",
       "      <td>1</td>\n",
       "      <td>23</td>\n",
       "      <td>0</td>\n",
       "      <td>1</td>\n",
       "    </tr>\n",
       "    <tr>\n",
       "      <th>6362619</th>\n",
       "      <td>743</td>\n",
       "      <td>CASH_OUT</td>\n",
       "      <td>850002.52</td>\n",
       "      <td>850002.52</td>\n",
       "      <td>0.00</td>\n",
       "      <td>6510099.11</td>\n",
       "      <td>7360101.63</td>\n",
       "      <td>1</td>\n",
       "      <td>Customer2Customer</td>\n",
       "      <td>0.0</td>\n",
       "      <td>9.313226e-10</td>\n",
       "      <td>0</td>\n",
       "      <td>1</td>\n",
       "      <td>23</td>\n",
       "      <td>0</td>\n",
       "      <td>0</td>\n",
       "    </tr>\n",
       "  </tbody>\n",
       "</table>\n",
       "<p>6362620 rows × 16 columns</p>\n",
       "</div>"
      ],
      "text/plain": [
       "         step      type      amount  oldbalanceOrg  newbalanceOrig  \\\n",
       "0           1   PAYMENT     9839.64      170136.00       160296.36   \n",
       "1           1   PAYMENT     1864.28       21249.00        19384.72   \n",
       "2           1  TRANSFER      181.00         181.00            0.00   \n",
       "3           1  CASH_OUT      181.00         181.00            0.00   \n",
       "4           1   PAYMENT    11668.14       41554.00        29885.86   \n",
       "...       ...       ...         ...            ...             ...   \n",
       "6362615   743  CASH_OUT   339682.13      339682.13            0.00   \n",
       "6362616   743  TRANSFER  6311409.28     6311409.28            0.00   \n",
       "6362617   743  CASH_OUT  6311409.28     6311409.28            0.00   \n",
       "6362618   743  TRANSFER   850002.52      850002.52            0.00   \n",
       "6362619   743  CASH_OUT   850002.52      850002.52            0.00   \n",
       "\n",
       "         oldbalanceDest  newbalanceDest  isFraud transactionBetween  \\\n",
       "0                  0.00            0.00        0  Customer2Merchant   \n",
       "1                  0.00            0.00        0  Customer2Merchant   \n",
       "2                  0.00            0.00        1  Customer2Customer   \n",
       "3              21182.00            0.00        1  Customer2Customer   \n",
       "4                  0.00            0.00        0  Customer2Merchant   \n",
       "...                 ...             ...      ...                ...   \n",
       "6362615            0.00       339682.13        1  Customer2Customer   \n",
       "6362616            0.00            0.00        1  Customer2Customer   \n",
       "6362617        68488.84      6379898.11        1  Customer2Customer   \n",
       "6362618            0.00            0.00        1  Customer2Customer   \n",
       "6362619      6510099.11      7360101.63        1  Customer2Customer   \n",
       "\n",
       "         errorBalanceOrig  errorBalanceDest  errorBalanceOrig_flag  \\\n",
       "0                     0.0      9.839640e+03                      0   \n",
       "1                     0.0      1.864280e+03                      0   \n",
       "2                     0.0      1.810000e+02                      0   \n",
       "3                     0.0      2.136300e+04                      0   \n",
       "4                     0.0      1.166814e+04                      0   \n",
       "...                   ...               ...                    ...   \n",
       "6362615               0.0      0.000000e+00                      0   \n",
       "6362616               0.0      6.311409e+06                      0   \n",
       "6362617               0.0      1.000000e-02                      0   \n",
       "6362618               0.0      8.500025e+05                      0   \n",
       "6362619               0.0      9.313226e-10                      0   \n",
       "\n",
       "         errorBalanceDest_flag  transactionHour  zeroBalanceOrig  \\\n",
       "0                            1                1                0   \n",
       "1                            1                1                0   \n",
       "2                            1                1                0   \n",
       "3                            1                1                0   \n",
       "4                            1                1                0   \n",
       "...                        ...              ...              ...   \n",
       "6362615                      0               23                0   \n",
       "6362616                      1               23                0   \n",
       "6362617                      1               23                0   \n",
       "6362618                      1               23                0   \n",
       "6362619                      1               23                0   \n",
       "\n",
       "         zeroBalanceDest  \n",
       "0                      1  \n",
       "1                      1  \n",
       "2                      1  \n",
       "3                      0  \n",
       "4                      1  \n",
       "...                  ...  \n",
       "6362615                0  \n",
       "6362616                1  \n",
       "6362617                0  \n",
       "6362618                1  \n",
       "6362619                0  \n",
       "\n",
       "[6362620 rows x 16 columns]"
      ]
     },
     "execution_count": 75,
     "metadata": {},
     "output_type": "execute_result"
    }
   ],
   "source": [
    "payments"
   ]
  },
  {
   "cell_type": "markdown",
   "metadata": {},
   "source": [
    "### **Preprocessing**"
   ]
  },
  {
   "cell_type": "markdown",
   "metadata": {},
   "source": [
    "*As the Data is Huge and we are only Looking for Fraudulent and also been able to establish that Fraudulent Transaction were occuring in CASH_OUT and TRANSFERS. Hence the data set is reduce to look at only CASH_OUT and TRANSFERS type*"
   ]
  },
  {
   "cell_type": "code",
   "execution_count": 76,
   "metadata": {},
   "outputs": [
    {
     "name": "stdout",
     "output_type": "stream",
     "text": [
      "The new sub-set table has 2770409 rows and 16 columns.\n"
     ]
    }
   ],
   "source": [
    "# subsetting fraudulent transactions\n",
    "payments_fraud = payments[payments['isFraud'] == 1]\n",
    "\n",
    "# subsetting non-fraudulent transactions\n",
    "payments_nonfraud = payments[(payments['isFraud'] == 0) & (payments['type'].isin(['CASH_OUT','TRANSFER']))]\n",
    "\n",
    "# creating a new dataframe from sub-sampled data\n",
    "payments_new = pd.concat([payments_fraud, payments_nonfraud], axis=0)\n",
    "\n",
    "# dataframe dimensions\n",
    "print(f\"The new sub-set table has {payments_new.shape[0]} rows and {payments_new.shape[1]} columns.\")"
   ]
  },
  {
   "cell_type": "code",
   "execution_count": 77,
   "metadata": {},
   "outputs": [],
   "source": [
    "# Creating a copy for modeling\n",
    "payments_model = payments_new"
   ]
  },
  {
   "cell_type": "code",
   "execution_count": 78,
   "metadata": {},
   "outputs": [
    {
     "data": {
      "text/plain": [
       "Index(['type', 'transactionBetween'], dtype='object')"
      ]
     },
     "execution_count": 78,
     "metadata": {},
     "output_type": "execute_result"
    }
   ],
   "source": [
    "# Categorical Variables\n",
    "cat = payments_model.select_dtypes(include='O').keys()\n",
    "cat"
   ]
  },
  {
   "cell_type": "markdown",
   "metadata": {},
   "source": [
    "*Onehot Encoding to change Categorical to Numeric*"
   ]
  },
  {
   "cell_type": "code",
   "execution_count": 79,
   "metadata": {},
   "outputs": [],
   "source": [
    "payments_onehot=payments_model.copy()"
   ]
  },
  {
   "cell_type": "code",
   "execution_count": 80,
   "metadata": {},
   "outputs": [
    {
     "data": {
      "text/html": [
       "<div>\n",
       "<style scoped>\n",
       "    .dataframe tbody tr th:only-of-type {\n",
       "        vertical-align: middle;\n",
       "    }\n",
       "\n",
       "    .dataframe tbody tr th {\n",
       "        vertical-align: top;\n",
       "    }\n",
       "\n",
       "    .dataframe thead th {\n",
       "        text-align: right;\n",
       "    }\n",
       "</style>\n",
       "<table border=\"1\" class=\"dataframe\">\n",
       "  <thead>\n",
       "    <tr style=\"text-align: right;\">\n",
       "      <th></th>\n",
       "      <th>step</th>\n",
       "      <th>amount</th>\n",
       "      <th>oldbalanceOrg</th>\n",
       "      <th>newbalanceOrig</th>\n",
       "      <th>oldbalanceDest</th>\n",
       "      <th>newbalanceDest</th>\n",
       "      <th>isFraud</th>\n",
       "      <th>errorBalanceOrig</th>\n",
       "      <th>errorBalanceDest</th>\n",
       "      <th>errorBalanceOrig_flag</th>\n",
       "      <th>errorBalanceDest_flag</th>\n",
       "      <th>transactionHour</th>\n",
       "      <th>zeroBalanceOrig</th>\n",
       "      <th>zeroBalanceDest</th>\n",
       "      <th>type_CASH_OUT</th>\n",
       "      <th>type_TRANSFER</th>\n",
       "      <th>transactionBetween_Customer2Customer</th>\n",
       "    </tr>\n",
       "  </thead>\n",
       "  <tbody>\n",
       "    <tr>\n",
       "      <th>2</th>\n",
       "      <td>1</td>\n",
       "      <td>181.00</td>\n",
       "      <td>181.0</td>\n",
       "      <td>0.0</td>\n",
       "      <td>0.00</td>\n",
       "      <td>0.00</td>\n",
       "      <td>1</td>\n",
       "      <td>0.00</td>\n",
       "      <td>181.0</td>\n",
       "      <td>0</td>\n",
       "      <td>1</td>\n",
       "      <td>1</td>\n",
       "      <td>0</td>\n",
       "      <td>1</td>\n",
       "      <td>0</td>\n",
       "      <td>1</td>\n",
       "      <td>1</td>\n",
       "    </tr>\n",
       "    <tr>\n",
       "      <th>3</th>\n",
       "      <td>1</td>\n",
       "      <td>181.00</td>\n",
       "      <td>181.0</td>\n",
       "      <td>0.0</td>\n",
       "      <td>21182.00</td>\n",
       "      <td>0.00</td>\n",
       "      <td>1</td>\n",
       "      <td>0.00</td>\n",
       "      <td>21363.0</td>\n",
       "      <td>0</td>\n",
       "      <td>1</td>\n",
       "      <td>1</td>\n",
       "      <td>0</td>\n",
       "      <td>0</td>\n",
       "      <td>1</td>\n",
       "      <td>0</td>\n",
       "      <td>1</td>\n",
       "    </tr>\n",
       "    <tr>\n",
       "      <th>251</th>\n",
       "      <td>1</td>\n",
       "      <td>2806.00</td>\n",
       "      <td>2806.0</td>\n",
       "      <td>0.0</td>\n",
       "      <td>0.00</td>\n",
       "      <td>0.00</td>\n",
       "      <td>1</td>\n",
       "      <td>0.00</td>\n",
       "      <td>2806.0</td>\n",
       "      <td>0</td>\n",
       "      <td>1</td>\n",
       "      <td>1</td>\n",
       "      <td>0</td>\n",
       "      <td>1</td>\n",
       "      <td>0</td>\n",
       "      <td>1</td>\n",
       "      <td>1</td>\n",
       "    </tr>\n",
       "    <tr>\n",
       "      <th>252</th>\n",
       "      <td>1</td>\n",
       "      <td>2806.00</td>\n",
       "      <td>2806.0</td>\n",
       "      <td>0.0</td>\n",
       "      <td>26202.00</td>\n",
       "      <td>0.00</td>\n",
       "      <td>1</td>\n",
       "      <td>0.00</td>\n",
       "      <td>29008.0</td>\n",
       "      <td>0</td>\n",
       "      <td>1</td>\n",
       "      <td>1</td>\n",
       "      <td>0</td>\n",
       "      <td>0</td>\n",
       "      <td>1</td>\n",
       "      <td>0</td>\n",
       "      <td>1</td>\n",
       "    </tr>\n",
       "    <tr>\n",
       "      <th>680</th>\n",
       "      <td>1</td>\n",
       "      <td>20128.00</td>\n",
       "      <td>20128.0</td>\n",
       "      <td>0.0</td>\n",
       "      <td>0.00</td>\n",
       "      <td>0.00</td>\n",
       "      <td>1</td>\n",
       "      <td>0.00</td>\n",
       "      <td>20128.0</td>\n",
       "      <td>0</td>\n",
       "      <td>1</td>\n",
       "      <td>1</td>\n",
       "      <td>0</td>\n",
       "      <td>1</td>\n",
       "      <td>0</td>\n",
       "      <td>1</td>\n",
       "      <td>1</td>\n",
       "    </tr>\n",
       "    <tr>\n",
       "      <th>...</th>\n",
       "      <td>...</td>\n",
       "      <td>...</td>\n",
       "      <td>...</td>\n",
       "      <td>...</td>\n",
       "      <td>...</td>\n",
       "      <td>...</td>\n",
       "      <td>...</td>\n",
       "      <td>...</td>\n",
       "      <td>...</td>\n",
       "      <td>...</td>\n",
       "      <td>...</td>\n",
       "      <td>...</td>\n",
       "      <td>...</td>\n",
       "      <td>...</td>\n",
       "      <td>...</td>\n",
       "      <td>...</td>\n",
       "      <td>...</td>\n",
       "    </tr>\n",
       "    <tr>\n",
       "      <th>6362313</th>\n",
       "      <td>718</td>\n",
       "      <td>111963.72</td>\n",
       "      <td>4514.0</td>\n",
       "      <td>0.0</td>\n",
       "      <td>154925.27</td>\n",
       "      <td>266888.99</td>\n",
       "      <td>0</td>\n",
       "      <td>107449.72</td>\n",
       "      <td>0.0</td>\n",
       "      <td>1</td>\n",
       "      <td>0</td>\n",
       "      <td>22</td>\n",
       "      <td>0</td>\n",
       "      <td>0</td>\n",
       "      <td>1</td>\n",
       "      <td>0</td>\n",
       "      <td>1</td>\n",
       "    </tr>\n",
       "    <tr>\n",
       "      <th>6362317</th>\n",
       "      <td>718</td>\n",
       "      <td>317177.48</td>\n",
       "      <td>170.0</td>\n",
       "      <td>0.0</td>\n",
       "      <td>345042.13</td>\n",
       "      <td>662219.61</td>\n",
       "      <td>0</td>\n",
       "      <td>317007.48</td>\n",
       "      <td>0.0</td>\n",
       "      <td>1</td>\n",
       "      <td>0</td>\n",
       "      <td>22</td>\n",
       "      <td>0</td>\n",
       "      <td>0</td>\n",
       "      <td>1</td>\n",
       "      <td>0</td>\n",
       "      <td>1</td>\n",
       "    </tr>\n",
       "    <tr>\n",
       "      <th>6362320</th>\n",
       "      <td>718</td>\n",
       "      <td>159188.22</td>\n",
       "      <td>3859.0</td>\n",
       "      <td>0.0</td>\n",
       "      <td>0.00</td>\n",
       "      <td>159188.22</td>\n",
       "      <td>0</td>\n",
       "      <td>155329.22</td>\n",
       "      <td>0.0</td>\n",
       "      <td>1</td>\n",
       "      <td>0</td>\n",
       "      <td>22</td>\n",
       "      <td>0</td>\n",
       "      <td>0</td>\n",
       "      <td>1</td>\n",
       "      <td>0</td>\n",
       "      <td>1</td>\n",
       "    </tr>\n",
       "    <tr>\n",
       "      <th>6362321</th>\n",
       "      <td>718</td>\n",
       "      <td>186273.84</td>\n",
       "      <td>168046.0</td>\n",
       "      <td>0.0</td>\n",
       "      <td>24893.67</td>\n",
       "      <td>211167.51</td>\n",
       "      <td>0</td>\n",
       "      <td>18227.84</td>\n",
       "      <td>0.0</td>\n",
       "      <td>1</td>\n",
       "      <td>0</td>\n",
       "      <td>22</td>\n",
       "      <td>0</td>\n",
       "      <td>0</td>\n",
       "      <td>1</td>\n",
       "      <td>0</td>\n",
       "      <td>1</td>\n",
       "    </tr>\n",
       "    <tr>\n",
       "      <th>6362322</th>\n",
       "      <td>718</td>\n",
       "      <td>82096.45</td>\n",
       "      <td>13492.0</td>\n",
       "      <td>0.0</td>\n",
       "      <td>0.00</td>\n",
       "      <td>82096.45</td>\n",
       "      <td>0</td>\n",
       "      <td>68604.45</td>\n",
       "      <td>0.0</td>\n",
       "      <td>1</td>\n",
       "      <td>0</td>\n",
       "      <td>22</td>\n",
       "      <td>0</td>\n",
       "      <td>0</td>\n",
       "      <td>0</td>\n",
       "      <td>1</td>\n",
       "      <td>1</td>\n",
       "    </tr>\n",
       "  </tbody>\n",
       "</table>\n",
       "<p>2770409 rows × 17 columns</p>\n",
       "</div>"
      ],
      "text/plain": [
       "         step     amount  oldbalanceOrg  newbalanceOrig  oldbalanceDest  \\\n",
       "2           1     181.00          181.0             0.0            0.00   \n",
       "3           1     181.00          181.0             0.0        21182.00   \n",
       "251         1    2806.00         2806.0             0.0            0.00   \n",
       "252         1    2806.00         2806.0             0.0        26202.00   \n",
       "680         1   20128.00        20128.0             0.0            0.00   \n",
       "...       ...        ...            ...             ...             ...   \n",
       "6362313   718  111963.72         4514.0             0.0       154925.27   \n",
       "6362317   718  317177.48          170.0             0.0       345042.13   \n",
       "6362320   718  159188.22         3859.0             0.0            0.00   \n",
       "6362321   718  186273.84       168046.0             0.0        24893.67   \n",
       "6362322   718   82096.45        13492.0             0.0            0.00   \n",
       "\n",
       "         newbalanceDest  isFraud  errorBalanceOrig  errorBalanceDest  \\\n",
       "2                  0.00        1              0.00             181.0   \n",
       "3                  0.00        1              0.00           21363.0   \n",
       "251                0.00        1              0.00            2806.0   \n",
       "252                0.00        1              0.00           29008.0   \n",
       "680                0.00        1              0.00           20128.0   \n",
       "...                 ...      ...               ...               ...   \n",
       "6362313       266888.99        0         107449.72               0.0   \n",
       "6362317       662219.61        0         317007.48               0.0   \n",
       "6362320       159188.22        0         155329.22               0.0   \n",
       "6362321       211167.51        0          18227.84               0.0   \n",
       "6362322        82096.45        0          68604.45               0.0   \n",
       "\n",
       "         errorBalanceOrig_flag  errorBalanceDest_flag  transactionHour  \\\n",
       "2                            0                      1                1   \n",
       "3                            0                      1                1   \n",
       "251                          0                      1                1   \n",
       "252                          0                      1                1   \n",
       "680                          0                      1                1   \n",
       "...                        ...                    ...              ...   \n",
       "6362313                      1                      0               22   \n",
       "6362317                      1                      0               22   \n",
       "6362320                      1                      0               22   \n",
       "6362321                      1                      0               22   \n",
       "6362322                      1                      0               22   \n",
       "\n",
       "         zeroBalanceOrig  zeroBalanceDest  type_CASH_OUT  type_TRANSFER  \\\n",
       "2                      0                1              0              1   \n",
       "3                      0                0              1              0   \n",
       "251                    0                1              0              1   \n",
       "252                    0                0              1              0   \n",
       "680                    0                1              0              1   \n",
       "...                  ...              ...            ...            ...   \n",
       "6362313                0                0              1              0   \n",
       "6362317                0                0              1              0   \n",
       "6362320                0                0              1              0   \n",
       "6362321                0                0              1              0   \n",
       "6362322                0                0              0              1   \n",
       "\n",
       "         transactionBetween_Customer2Customer  \n",
       "2                                           1  \n",
       "3                                           1  \n",
       "251                                         1  \n",
       "252                                         1  \n",
       "680                                         1  \n",
       "...                                       ...  \n",
       "6362313                                     1  \n",
       "6362317                                     1  \n",
       "6362320                                     1  \n",
       "6362321                                     1  \n",
       "6362322                                     1  \n",
       "\n",
       "[2770409 rows x 17 columns]"
      ]
     },
     "execution_count": 80,
     "metadata": {},
     "output_type": "execute_result"
    }
   ],
   "source": [
    "\n",
    "#convert only categorical variables/features to dummy/one-hot features\n",
    "payments_onehot = pd.get_dummies(payments_onehot, columns=cat, prefix = cat)\n",
    "#print the dataset\n",
    "payments_onehot\n"
   ]
  },
  {
   "cell_type": "code",
   "execution_count": 81,
   "metadata": {},
   "outputs": [
    {
     "name": "stdout",
     "output_type": "stream",
     "text": [
      "Index(['step', 'amount', 'oldbalanceOrg', 'newbalanceOrig', 'oldbalanceDest',\n",
      "       'newbalanceDest', 'errorBalanceOrig', 'errorBalanceDest',\n",
      "       'errorBalanceOrig_flag', 'errorBalanceDest_flag', 'transactionHour',\n",
      "       'zeroBalanceOrig', 'zeroBalanceDest', 'type_CASH_OUT', 'type_TRANSFER',\n",
      "       'transactionBetween_Customer2Customer'],\n",
      "      dtype='object')\n"
     ]
    }
   ],
   "source": [
    "class_col_name = 'isFraud'\n",
    "one_hot_feature_names=payments_onehot.columns[payments_onehot.columns != class_col_name]\n",
    "print(one_hot_feature_names)\n",
    "#print(payments_onehot.loc[:,one_hot_feature_names])"
   ]
  },
  {
   "cell_type": "markdown",
   "metadata": {},
   "source": [
    "*Spliting data set into Train and test to 70:30 Ratio*"
   ]
  },
  {
   "cell_type": "code",
   "execution_count": 82,
   "metadata": {},
   "outputs": [],
   "source": [
    "from sklearn.model_selection import train_test_split\n",
    "# Split dataset into training set and test set\n",
    "X_train, X_test, Y_train, Y_test = train_test_split(payments_onehot.loc[:,one_hot_feature_names], payments_onehot[class_col_name],train_size=0.7,test_size=0.3,random_state=109) \n",
    "# 70% training and 30% test"
   ]
  },
  {
   "cell_type": "markdown",
   "metadata": {},
   "source": [
    "*Dataset Ratio of X Independent Variables and Y Depentent Variable*"
   ]
  },
  {
   "cell_type": "code",
   "execution_count": 83,
   "metadata": {},
   "outputs": [
    {
     "name": "stdout",
     "output_type": "stream",
     "text": [
      "X: 1939286 : 831123\n",
      "Y: 1939286 : 831123\n"
     ]
    }
   ],
   "source": [
    "print(\"X:\", len(X_train), \":\", len(X_test))\n",
    "print(\"Y:\",len(Y_train),\":\", len(Y_test))"
   ]
  },
  {
   "cell_type": "markdown",
   "metadata": {},
   "source": [
    "*As the Data set is very Imbalanced, Using SMOTE we are trying to oversamle the class*"
   ]
  },
  {
   "cell_type": "code",
   "execution_count": 84,
   "metadata": {},
   "outputs": [
    {
     "name": "stdout",
     "output_type": "stream",
     "text": [
      "Before OverSampling, counts of label '1': 5762\n",
      "Before OverSampling, counts of label '0': 1933524\n"
     ]
    }
   ],
   "source": [
    "print(\"Before OverSampling, counts of label '1': {}\".format(sum(Y_train == 1)))\n",
    "print(\"Before OverSampling, counts of label '0': {}\".format(sum(Y_train == 0)))"
   ]
  },
  {
   "cell_type": "code",
   "execution_count": 85,
   "metadata": {},
   "outputs": [],
   "source": [
    "from imblearn.over_sampling import SMOTE\n",
    "\n",
    "sm = SMOTE(random_state = 2)\n",
    "X_train_res, Y_train_res = sm.fit_resample(X_train, Y_train)"
   ]
  },
  {
   "cell_type": "code",
   "execution_count": 86,
   "metadata": {},
   "outputs": [
    {
     "name": "stdout",
     "output_type": "stream",
     "text": [
      "After OverSampling, the shape of train_X: (3867048, 16)\n",
      "After OverSampling, the shape of train_y: (3867048,) \n",
      "\n",
      "Before OverSampling, counts of label '1': 5762\n",
      "Before OverSampling, counts of label '0': 1933524\n",
      "After OverSampling, counts of label '1': 1933524\n",
      "After OverSampling, counts of label '0': 1933524\n"
     ]
    }
   ],
   "source": [
    "print('After OverSampling, the shape of train_X: {}'.format(X_train_res.shape))\n",
    "print('After OverSampling, the shape of train_y: {} \\n'.format(Y_train_res.shape))\n",
    "\n",
    "print(\"Before OverSampling, counts of label '1': {}\".format(sum(Y_train == 1)))\n",
    "print(\"Before OverSampling, counts of label '0': {}\".format(sum(Y_train == 0)))\n",
    "  \n",
    "print(\"After OverSampling, counts of label '1': {}\".format(sum(Y_train_res == 1)))\n",
    "print(\"After OverSampling, counts of label '0': {}\".format(sum(Y_train_res == 0)))"
   ]
  },
  {
   "cell_type": "markdown",
   "metadata": {},
   "source": [
    "### **Modelling**"
   ]
  },
  {
   "cell_type": "markdown",
   "metadata": {},
   "source": [
    "##### Decision Tree Classifier"
   ]
  },
  {
   "cell_type": "code",
   "execution_count": 87,
   "metadata": {},
   "outputs": [],
   "source": [
    "DecisionTreeClassifier_Model_With_SOMTE = DecisionTreeClassifier()\n",
    "DTC_W_SMOTE = DecisionTreeClassifier_Model_With_SOMTE.fit(X_train_res,Y_train_res)"
   ]
  },
  {
   "cell_type": "code",
   "execution_count": 88,
   "metadata": {},
   "outputs": [],
   "source": [
    "DecisionTreeClassifier_Model_WithOut_SOMTE = DecisionTreeClassifier()\n",
    "DTC_WO_SMOTE = DecisionTreeClassifier_Model_WithOut_SOMTE.fit(X_train,Y_train)"
   ]
  },
  {
   "cell_type": "markdown",
   "metadata": {},
   "source": [
    "##### Logistics Regression"
   ]
  },
  {
   "cell_type": "code",
   "execution_count": 89,
   "metadata": {},
   "outputs": [],
   "source": [
    "LogisticsRegression_Model_With_SOMTE = LogisticRegression()\n",
    "LR_M_W_SMOTE = LogisticsRegression_Model_With_SOMTE.fit(X_train_res,Y_train_res)"
   ]
  },
  {
   "cell_type": "code",
   "execution_count": 90,
   "metadata": {},
   "outputs": [],
   "source": [
    "LogisticsRegression_Model_WithOut_SOMTE = LogisticRegression()\n",
    "LR_M_WO_SMOTE = LogisticsRegression_Model_WithOut_SOMTE.fit(X_train,Y_train)"
   ]
  },
  {
   "cell_type": "markdown",
   "metadata": {},
   "source": [
    "##### Naive Bayes"
   ]
  },
  {
   "cell_type": "code",
   "execution_count": 91,
   "metadata": {},
   "outputs": [],
   "source": [
    "NaiveBayes_Model_With_SOMTE = MultinomialNB()\n",
    "\n",
    "from sklearn.preprocessing import MinMaxScaler\n",
    "NaiveBayes_Model_With_SOMTE = Pipeline([('Normalizing',MinMaxScaler()),('MultinomialNB',MultinomialNB())])\n",
    "NB_W_SMOTE = NaiveBayes_Model_With_SOMTE.fit(X_train_res,Y_train_res)"
   ]
  },
  {
   "cell_type": "code",
   "execution_count": 92,
   "metadata": {},
   "outputs": [],
   "source": [
    "NaiveBayes_Model_WithOut_SOMTE = MultinomialNB()\n",
    "\n",
    "from sklearn.preprocessing import MinMaxScaler\n",
    "NaiveBayes_Model_WithOut_SOMTE = Pipeline([('Normalizing',MinMaxScaler()),('MultinomialNB',MultinomialNB())])\n",
    "NB_WO_SMOTE = NaiveBayes_Model_WithOut_SOMTE.fit(X_train,Y_train)"
   ]
  },
  {
   "cell_type": "markdown",
   "metadata": {},
   "source": [
    "##### GaussianNB"
   ]
  },
  {
   "cell_type": "code",
   "execution_count": 93,
   "metadata": {},
   "outputs": [],
   "source": [
    "GaussianNB_Model_With_SOMTE = GaussianNB()\n",
    "G_W_SMOTE = GaussianNB_Model_With_SOMTE.fit(X_train_res,Y_train_res)"
   ]
  },
  {
   "cell_type": "code",
   "execution_count": 94,
   "metadata": {},
   "outputs": [],
   "source": [
    "GaussianNB_WithOut_SOMTE = GaussianNB()\n",
    "G_WO_SMOTE = GaussianNB_WithOut_SOMTE.fit(X_train,Y_train)"
   ]
  },
  {
   "cell_type": "markdown",
   "metadata": {},
   "source": [
    "### Evaluvate Models"
   ]
  },
  {
   "cell_type": "markdown",
   "metadata": {},
   "source": [
    "##### Prediction scores"
   ]
  },
  {
   "cell_type": "code",
   "execution_count": 95,
   "metadata": {},
   "outputs": [],
   "source": [
    "Models = [DTC_W_SMOTE,DTC_WO_SMOTE,LR_M_W_SMOTE,LR_M_WO_SMOTE,NB_W_SMOTE,NB_WO_SMOTE,G_W_SMOTE,G_WO_SMOTE]"
   ]
  },
  {
   "cell_type": "code",
   "execution_count": 96,
   "metadata": {},
   "outputs": [],
   "source": [
    "#Functions\n",
    "def name_of_global_obj(xx):\n",
    "    for objname, oid in globals().items():\n",
    "        if oid is xx:\n",
    "            return objname\n",
    "def evaluvate_model(Models, X_test, Y_test):\n",
    "    MLA = Models\n",
    "    MLA_columns = []\n",
    "    MLA_compare = pd.DataFrame(columns = MLA_columns)\n",
    "    row_index = 0\n",
    "    for alg in MLA:\n",
    "        predicted = alg.predict(X_test)\n",
    "        MLA_name = name_of_global_obj(alg)\n",
    "        MLA_compare.loc[row_index,'Model Name'] = MLA_name\n",
    "        #MLA_compare.loc[row_index, 'Type1 Error'] = round(alg.score['test_type1'],2)\n",
    "        #MLA_compare.loc[row_index, 'Type2 Error'] = round(alg.score['test_type2'],2)\n",
    "        MLA_compare.loc[row_index, 'Accuracy_score'] = round(accuracy_score(Y_test,predicted),2)\n",
    "        MLA_compare.loc[row_index, 'Recall'] = round(recall_score(Y_test, predicted),2)\n",
    "        MLA_compare.loc[row_index, 'Precision'] = round(precision_score(Y_test, predicted),2)\n",
    "        MLA_compare.loc[row_index, 'F1 score'] = round(f1_score(Y_test, predicted),2)\n",
    "        cf=confusion_matrix(Y_test, predicted)\n",
    "        tn, fp, fn, tp = cf.ravel()\n",
    "        MLA_compare.loc[row_index, 'AOC score'] = round(roc_auc_score(Y_test, predicted),2)\n",
    "        MLA_compare.loc[row_index, 'Type I errors'] = fp\n",
    "        MLA_compare.loc[row_index, 'Type II errors'] = fn\n",
    "       \n",
    "        row_index+=1\n",
    "     \n",
    "    return MLA_compare  \n"
   ]
  },
  {
   "cell_type": "code",
   "execution_count": 114,
   "metadata": {},
   "outputs": [],
   "source": [
    "eval = evaluvate_model(Models, X_test, Y_test)"
   ]
  },
  {
   "cell_type": "code",
   "execution_count": 124,
   "metadata": {},
   "outputs": [
    {
     "data": {
      "text/html": [
       "<div>\n",
       "<style scoped>\n",
       "    .dataframe tbody tr th:only-of-type {\n",
       "        vertical-align: middle;\n",
       "    }\n",
       "\n",
       "    .dataframe tbody tr th {\n",
       "        vertical-align: top;\n",
       "    }\n",
       "\n",
       "    .dataframe thead th {\n",
       "        text-align: right;\n",
       "    }\n",
       "</style>\n",
       "<table border=\"1\" class=\"dataframe\">\n",
       "  <thead>\n",
       "    <tr style=\"text-align: right;\">\n",
       "      <th></th>\n",
       "      <th>Model Name</th>\n",
       "      <th>Accuracy_score</th>\n",
       "      <th>Recall</th>\n",
       "      <th>Precision</th>\n",
       "      <th>F1 score</th>\n",
       "      <th>AOC score</th>\n",
       "      <th>Type I errors</th>\n",
       "      <th>Type II errors</th>\n",
       "    </tr>\n",
       "  </thead>\n",
       "  <tbody>\n",
       "    <tr>\n",
       "      <th>0</th>\n",
       "      <td>DecisionTreeClassifier_Model_With_SOMTE</td>\n",
       "      <td>1.00</td>\n",
       "      <td>1.00</td>\n",
       "      <td>0.98</td>\n",
       "      <td>0.99</td>\n",
       "      <td>1.00</td>\n",
       "      <td>41.0</td>\n",
       "      <td>5.0</td>\n",
       "    </tr>\n",
       "    <tr>\n",
       "      <th>1</th>\n",
       "      <td>DecisionTreeClassifier_Model_WithOut_SOMTE</td>\n",
       "      <td>1.00</td>\n",
       "      <td>1.00</td>\n",
       "      <td>0.99</td>\n",
       "      <td>1.00</td>\n",
       "      <td>1.00</td>\n",
       "      <td>15.0</td>\n",
       "      <td>7.0</td>\n",
       "    </tr>\n",
       "    <tr>\n",
       "      <th>2</th>\n",
       "      <td>LogisticsRegression_Model_With_SOMTE</td>\n",
       "      <td>0.90</td>\n",
       "      <td>0.97</td>\n",
       "      <td>0.03</td>\n",
       "      <td>0.05</td>\n",
       "      <td>0.93</td>\n",
       "      <td>86868.0</td>\n",
       "      <td>64.0</td>\n",
       "    </tr>\n",
       "    <tr>\n",
       "      <th>3</th>\n",
       "      <td>LogisticsRegression_Model_WithOut_SOMTE</td>\n",
       "      <td>1.00</td>\n",
       "      <td>0.52</td>\n",
       "      <td>0.83</td>\n",
       "      <td>0.64</td>\n",
       "      <td>0.76</td>\n",
       "      <td>269.0</td>\n",
       "      <td>1171.0</td>\n",
       "    </tr>\n",
       "    <tr>\n",
       "      <th>4</th>\n",
       "      <td>NaiveBayes_Model_With_SOMTE</td>\n",
       "      <td>0.95</td>\n",
       "      <td>0.91</td>\n",
       "      <td>0.05</td>\n",
       "      <td>0.09</td>\n",
       "      <td>0.93</td>\n",
       "      <td>45412.0</td>\n",
       "      <td>215.0</td>\n",
       "    </tr>\n",
       "    <tr>\n",
       "      <th>5</th>\n",
       "      <td>NaiveBayes_Model_WithOut_SOMTE</td>\n",
       "      <td>1.00</td>\n",
       "      <td>0.50</td>\n",
       "      <td>0.91</td>\n",
       "      <td>0.65</td>\n",
       "      <td>0.75</td>\n",
       "      <td>119.0</td>\n",
       "      <td>1224.0</td>\n",
       "    </tr>\n",
       "    <tr>\n",
       "      <th>6</th>\n",
       "      <td>GaussianNB_Model_With_SOMTE</td>\n",
       "      <td>0.98</td>\n",
       "      <td>0.47</td>\n",
       "      <td>0.07</td>\n",
       "      <td>0.12</td>\n",
       "      <td>0.72</td>\n",
       "      <td>15698.0</td>\n",
       "      <td>1311.0</td>\n",
       "    </tr>\n",
       "    <tr>\n",
       "      <th>7</th>\n",
       "      <td>GaussianNB_WithOut_SOMTE</td>\n",
       "      <td>0.99</td>\n",
       "      <td>0.40</td>\n",
       "      <td>0.10</td>\n",
       "      <td>0.16</td>\n",
       "      <td>0.69</td>\n",
       "      <td>9053.0</td>\n",
       "      <td>1471.0</td>\n",
       "    </tr>\n",
       "  </tbody>\n",
       "</table>\n",
       "</div>"
      ],
      "text/plain": [
       "                                   Model Name  Accuracy_score  Recall  \\\n",
       "0     DecisionTreeClassifier_Model_With_SOMTE            1.00    1.00   \n",
       "1  DecisionTreeClassifier_Model_WithOut_SOMTE            1.00    1.00   \n",
       "2        LogisticsRegression_Model_With_SOMTE            0.90    0.97   \n",
       "3     LogisticsRegression_Model_WithOut_SOMTE            1.00    0.52   \n",
       "4                 NaiveBayes_Model_With_SOMTE            0.95    0.91   \n",
       "5              NaiveBayes_Model_WithOut_SOMTE            1.00    0.50   \n",
       "6                 GaussianNB_Model_With_SOMTE            0.98    0.47   \n",
       "7                    GaussianNB_WithOut_SOMTE            0.99    0.40   \n",
       "\n",
       "   Precision  F1 score  AOC score  Type I errors  Type II errors  \n",
       "0       0.98      0.99       1.00           41.0             5.0  \n",
       "1       0.99      1.00       1.00           15.0             7.0  \n",
       "2       0.03      0.05       0.93        86868.0            64.0  \n",
       "3       0.83      0.64       0.76          269.0          1171.0  \n",
       "4       0.05      0.09       0.93        45412.0           215.0  \n",
       "5       0.91      0.65       0.75          119.0          1224.0  \n",
       "6       0.07      0.12       0.72        15698.0          1311.0  \n",
       "7       0.10      0.16       0.69         9053.0          1471.0  "
      ]
     },
     "execution_count": 124,
     "metadata": {},
     "output_type": "execute_result"
    }
   ],
   "source": [
    "eval"
   ]
  },
  {
   "cell_type": "markdown",
   "metadata": {},
   "source": [
    "*Based on the numbers We can see that Decision Tree Clasifier with SMOTE has better performance*\n",
    "\n",
    "*Type I Error which is False Postives and Type II error which are False Negitives(More important as we do not want mark fradulent as NON Fradulent Transactions)*"
   ]
  },
  {
   "cell_type": "markdown",
   "metadata": {},
   "source": [
    "##### K Foldes stratified Cross Validation"
   ]
  },
  {
   "cell_type": "code",
   "execution_count": 98,
   "metadata": {},
   "outputs": [],
   "source": [
    "df_CrossV = pd.DataFrame(columns = [\"Model Name\",\"KfoldsCV_Accuracy\"])"
   ]
  },
  {
   "cell_type": "code",
   "execution_count": 101,
   "metadata": {},
   "outputs": [],
   "source": [
    "from sklearn.pipeline import make_pipeline"
   ]
  },
  {
   "cell_type": "code",
   "execution_count": 102,
   "metadata": {},
   "outputs": [
    {
     "name": "stdout",
     "output_type": "stream",
     "text": [
      "DecisionTreeClassifier with SMOTE\n",
      "Fold:  1, Training/Test Split Distribution: [1740171 1740172], Accuracy: 1.000\n",
      "Fold:  2, Training/Test Split Distribution: [1740171 1740172], Accuracy: 1.000\n",
      "Fold:  3, Training/Test Split Distribution: [1740171 1740172], Accuracy: 1.000\n",
      "Fold:  4, Training/Test Split Distribution: [1740171 1740172], Accuracy: 1.000\n",
      "Fold:  5, Training/Test Split Distribution: [1740172 1740171], Accuracy: 1.000\n",
      "Fold:  6, Training/Test Split Distribution: [1740172 1740171], Accuracy: 1.000\n",
      "Fold:  7, Training/Test Split Distribution: [1740172 1740171], Accuracy: 1.000\n",
      "Fold:  8, Training/Test Split Distribution: [1740172 1740171], Accuracy: 1.000\n",
      "Fold:  9, Training/Test Split Distribution: [1740172 1740172], Accuracy: 1.000\n",
      "Fold: 10, Training/Test Split Distribution: [1740172 1740172], Accuracy: 1.000\n",
      "\n",
      "\n",
      "Cross-Validation accuracy: 1.000 +/- 0.000\n"
     ]
    }
   ],
   "source": [
    "# Create an instance of Pipeline\n",
    "print(\"DecisionTreeClassifier with SMOTE\")\n",
    "pipeline = make_pipeline(StandardScaler(), DecisionTreeClassifier())\n",
    "\n",
    "# Create an instance of StratifiedKFold which can be used to get indices of different training and test folds\n",
    "\n",
    "strtfdKFold = StratifiedKFold(n_splits=10)\n",
    "kfold = strtfdKFold.split(X_train_res, Y_train_res)\n",
    "scores = []\n",
    "\n",
    "for k, (train, test) in enumerate(kfold):\n",
    "    pipeline.fit(X_train_res.iloc[train, :], Y_train_res.iloc[train])\n",
    "    score = pipeline.score(X_train_res.iloc[test, :], Y_train_res.iloc[test])\n",
    "    scores.append(score)\n",
    "    print('Fold: %2d, Training/Test Split Distribution: %s, Accuracy: %.3f' % (k+1, np.bincount(Y_train_res.iloc[train]), score))\n",
    " \n",
    "\n",
    "\n",
    "print('\\n\\nCross-Validation accuracy: %.3f +/- %.3f' %(np.mean(scores), np.std(scores)))\n",
    "df_CrossV.loc[len(df_CrossV.index)] = ['DecisionTreeClassifier_Model_With_SOMTE', np.mean(scores)] "
   ]
  },
  {
   "cell_type": "code",
   "execution_count": 103,
   "metadata": {},
   "outputs": [
    {
     "name": "stdout",
     "output_type": "stream",
     "text": [
      "DecisionTreeClassifier_Model_WithOut_SOMTE\n",
      "Fold:  1, Training/Test Split Distribution: [1740171    5186], Accuracy: 1.000\n",
      "Fold:  2, Training/Test Split Distribution: [1740171    5186], Accuracy: 1.000\n",
      "Fold:  3, Training/Test Split Distribution: [1740171    5186], Accuracy: 1.000\n",
      "Fold:  4, Training/Test Split Distribution: [1740171    5186], Accuracy: 1.000\n",
      "Fold:  5, Training/Test Split Distribution: [1740172    5185], Accuracy: 1.000\n",
      "Fold:  6, Training/Test Split Distribution: [1740172    5185], Accuracy: 1.000\n",
      "Fold:  7, Training/Test Split Distribution: [1740172    5186], Accuracy: 1.000\n",
      "Fold:  8, Training/Test Split Distribution: [1740172    5186], Accuracy: 1.000\n",
      "Fold:  9, Training/Test Split Distribution: [1740172    5186], Accuracy: 1.000\n",
      "Fold: 10, Training/Test Split Distribution: [1740172    5186], Accuracy: 1.000\n",
      "\n",
      "\n",
      "Cross-Validation accuracy: 1.000 +/- 0.000\n"
     ]
    }
   ],
   "source": [
    "# Create an instance of Pipeline\n",
    "print(\"DecisionTreeClassifier_Model_WithOut_SOMTE\")\n",
    "pipeline = make_pipeline(StandardScaler(), DecisionTreeClassifier())\n",
    "\n",
    "# Create an instance of StratifiedKFold which can be used to get indices of different training and test folds\n",
    "\n",
    "strtfdKFold = StratifiedKFold(n_splits=10)\n",
    "kfold = strtfdKFold.split(X_train, Y_train)\n",
    "scores = []\n",
    "\n",
    "for k, (train, test) in enumerate(kfold):\n",
    "    pipeline.fit(X_train_res.iloc[train, :], Y_train_res.iloc[train])\n",
    "    score = pipeline.score(X_train_res.iloc[test, :], Y_train_res.iloc[test])\n",
    "    scores.append(score)\n",
    "    print('Fold: %2d, Training/Test Split Distribution: %s, Accuracy: %.3f' % (k+1, np.bincount(Y_train_res.iloc[train]), score))\n",
    " \n",
    "\n",
    "\n",
    "print('\\n\\nCross-Validation accuracy: %.3f +/- %.3f' %(np.mean(scores), np.std(scores)))\n",
    "df_CrossV.loc[len(df_CrossV.index)] = ['DecisionTreeClassifier_Model_WithOut_SOMTE', np.mean(scores)] "
   ]
  },
  {
   "cell_type": "code",
   "execution_count": 107,
   "metadata": {},
   "outputs": [
    {
     "name": "stdout",
     "output_type": "stream",
     "text": [
      "LogisticsRegression_Model_With_SOMTE\n",
      "Fold:  1, Training/Test Split Distribution: [1740171 1740172], Accuracy: 0.971\n",
      "Fold:  2, Training/Test Split Distribution: [1740171 1740172], Accuracy: 0.972\n",
      "Fold:  3, Training/Test Split Distribution: [1740171 1740172], Accuracy: 0.973\n",
      "Fold:  4, Training/Test Split Distribution: [1740171 1740172], Accuracy: 0.972\n",
      "Fold:  5, Training/Test Split Distribution: [1740172 1740171], Accuracy: 0.972\n",
      "Fold:  6, Training/Test Split Distribution: [1740172 1740171], Accuracy: 0.972\n",
      "Fold:  7, Training/Test Split Distribution: [1740172 1740171], Accuracy: 0.972\n",
      "Fold:  8, Training/Test Split Distribution: [1740172 1740171], Accuracy: 0.972\n",
      "Fold:  9, Training/Test Split Distribution: [1740172 1740172], Accuracy: 0.972\n",
      "Fold: 10, Training/Test Split Distribution: [1740172 1740172], Accuracy: 0.973\n",
      "\n",
      "\n",
      "Cross-Validation accuracy: 0.972 +/- 0.000\n"
     ]
    }
   ],
   "source": [
    "print(\"LogisticsRegression_Model_With_SOMTE\")\n",
    "\n",
    "pipeline = make_pipeline(StandardScaler(), LogisticRegression())\n",
    "\n",
    "# Create an instance of StratifiedKFold which can be used to get indices of different training and test folds\n",
    "\n",
    "strtfdKFold = StratifiedKFold(n_splits=10)\n",
    "kfold = strtfdKFold.split(X_train_res, Y_train_res)\n",
    "scores = []\n",
    "\n",
    "for k, (train, test) in enumerate(kfold):\n",
    "    pipeline.fit(X_train_res.iloc[train, :], Y_train_res.iloc[train])\n",
    "    score = pipeline.score(X_train_res.iloc[test, :], Y_train_res.iloc[test])\n",
    "    scores.append(score)\n",
    "    print('Fold: %2d, Training/Test Split Distribution: %s, Accuracy: %.3f' % (k+1, np.bincount(Y_train_res.iloc[train]), score))\n",
    " \n",
    "print('\\n\\nCross-Validation accuracy: %.3f +/- %.3f' %(np.mean(scores), np.std(scores)))\n",
    "df_CrossV.loc[len(df_CrossV.index)] = ['LogisticsRegression_Model_With_SOMTE', np.mean(scores)] "
   ]
  },
  {
   "cell_type": "code",
   "execution_count": 108,
   "metadata": {},
   "outputs": [
    {
     "name": "stdout",
     "output_type": "stream",
     "text": [
      "LogisticsRegression_Model_WithOut_SOMTE\n",
      "Fold:  1, Training/Test Split Distribution: [1740171    5186], Accuracy: 0.999\n",
      "Fold:  2, Training/Test Split Distribution: [1740171    5186], Accuracy: 0.999\n",
      "Fold:  3, Training/Test Split Distribution: [1740171    5186], Accuracy: 0.999\n",
      "Fold:  4, Training/Test Split Distribution: [1740171    5186], Accuracy: 0.999\n",
      "Fold:  5, Training/Test Split Distribution: [1740172    5185], Accuracy: 0.999\n",
      "Fold:  6, Training/Test Split Distribution: [1740172    5185], Accuracy: 0.999\n",
      "Fold:  7, Training/Test Split Distribution: [1740172    5186], Accuracy: 0.999\n",
      "Fold:  8, Training/Test Split Distribution: [1740172    5186], Accuracy: 0.999\n",
      "Fold:  9, Training/Test Split Distribution: [1740172    5186], Accuracy: 0.999\n",
      "Fold: 10, Training/Test Split Distribution: [1740172    5186], Accuracy: 0.999\n",
      "\n",
      "\n",
      "Cross-Validation accuracy: 0.999 +/- 0.000\n"
     ]
    }
   ],
   "source": [
    "print(\"LogisticsRegression_Model_WithOut_SOMTE\")\n",
    "\n",
    "pipeline = make_pipeline(StandardScaler(), LogisticRegression())\n",
    "\n",
    "# Create an instance of StratifiedKFold which can be used to get indices of different training and test folds\n",
    "\n",
    "strtfdKFold = StratifiedKFold(n_splits=10)\n",
    "kfold = strtfdKFold.split(X_train, Y_train)\n",
    "scores = []\n",
    "\n",
    "for k, (train, test) in enumerate(kfold):\n",
    "    pipeline.fit(X_train_res.iloc[train, :], Y_train_res.iloc[train])\n",
    "    score = pipeline.score(X_train_res.iloc[test, :], Y_train_res.iloc[test])\n",
    "    scores.append(score)\n",
    "    print('Fold: %2d, Training/Test Split Distribution: %s, Accuracy: %.3f' % (k+1, np.bincount(Y_train_res.iloc[train]), score))\n",
    " \n",
    "print('\\n\\nCross-Validation accuracy: %.3f +/- %.3f' %(np.mean(scores), np.std(scores)))\n",
    "df_CrossV.loc[len(df_CrossV.index)] = ['LogisticsRegression_Model_WithOut_SOMTE', np.mean(scores)] "
   ]
  },
  {
   "cell_type": "code",
   "execution_count": 109,
   "metadata": {},
   "outputs": [
    {
     "name": "stdout",
     "output_type": "stream",
     "text": [
      "NaiveBayes_Model_With_SOMTE\n",
      "Fold:  1, Training/Test Split Distribution: [1740171 1740172], Accuracy: 0.923\n",
      "Fold:  2, Training/Test Split Distribution: [1740171 1740172], Accuracy: 0.924\n",
      "Fold:  3, Training/Test Split Distribution: [1740171 1740172], Accuracy: 0.923\n",
      "Fold:  4, Training/Test Split Distribution: [1740171 1740172], Accuracy: 0.923\n",
      "Fold:  5, Training/Test Split Distribution: [1740172 1740171], Accuracy: 0.923\n",
      "Fold:  6, Training/Test Split Distribution: [1740172 1740171], Accuracy: 0.922\n",
      "Fold:  7, Training/Test Split Distribution: [1740172 1740171], Accuracy: 0.923\n",
      "Fold:  8, Training/Test Split Distribution: [1740172 1740171], Accuracy: 0.922\n",
      "Fold:  9, Training/Test Split Distribution: [1740172 1740172], Accuracy: 0.922\n",
      "Fold: 10, Training/Test Split Distribution: [1740172 1740172], Accuracy: 0.923\n",
      "\n",
      "\n",
      "Cross-Validation accuracy: 0.923 +/- 0.001\n"
     ]
    }
   ],
   "source": [
    "print(\"NaiveBayes_Model_With_SOMTE\")\n",
    "pipeline = Pipeline([('Normalizing',MinMaxScaler()),('MultinomialNB',MultinomialNB())])\n",
    "\n",
    "# Create an instance of StratifiedKFold which can be used to get indices of different training and test folds\n",
    "\n",
    "strtfdKFold = StratifiedKFold(n_splits=10)\n",
    "kfold = strtfdKFold.split(X_train_res, Y_train_res)\n",
    "scores = []\n",
    "\n",
    "for k, (train, test) in enumerate(kfold):\n",
    "    pipeline.fit(X_train_res.iloc[train, :], Y_train_res.iloc[train])\n",
    "    score = pipeline.score(X_train_res.iloc[test, :], Y_train_res.iloc[test])\n",
    "    scores.append(score)\n",
    "    print('Fold: %2d, Training/Test Split Distribution: %s, Accuracy: %.3f' % (k+1, np.bincount(Y_train_res.iloc[train]), score))\n",
    " \n",
    "print('\\n\\nCross-Validation accuracy: %.3f +/- %.3f' %(np.mean(scores), np.std(scores)))\n",
    "df_CrossV.loc[len(df_CrossV.index)] = ['NaiveBayes_Model_With_SOMTE', np.mean(scores)] "
   ]
  },
  {
   "cell_type": "code",
   "execution_count": 110,
   "metadata": {},
   "outputs": [
    {
     "name": "stdout",
     "output_type": "stream",
     "text": [
      "NaiveBayes_Model_WithOut_SOMTE\n",
      "Fold:  1, Training/Test Split Distribution: [1740171    5186], Accuracy: 0.998\n",
      "Fold:  2, Training/Test Split Distribution: [1740171    5186], Accuracy: 0.998\n",
      "Fold:  3, Training/Test Split Distribution: [1740171    5186], Accuracy: 0.998\n",
      "Fold:  4, Training/Test Split Distribution: [1740171    5186], Accuracy: 0.998\n",
      "Fold:  5, Training/Test Split Distribution: [1740172    5185], Accuracy: 0.998\n",
      "Fold:  6, Training/Test Split Distribution: [1740172    5185], Accuracy: 0.998\n",
      "Fold:  7, Training/Test Split Distribution: [1740172    5186], Accuracy: 0.998\n",
      "Fold:  8, Training/Test Split Distribution: [1740172    5186], Accuracy: 0.998\n",
      "Fold:  9, Training/Test Split Distribution: [1740172    5186], Accuracy: 0.998\n",
      "Fold: 10, Training/Test Split Distribution: [1740172    5186], Accuracy: 0.998\n",
      "\n",
      "\n",
      "Cross-Validation accuracy: 0.998 +/- 0.000\n"
     ]
    }
   ],
   "source": [
    "print(\"NaiveBayes_Model_WithOut_SOMTE\")\n",
    "pipeline = Pipeline([('Normalizing',MinMaxScaler()),('MultinomialNB',MultinomialNB())])\n",
    "\n",
    "# Create an instance of StratifiedKFold which can be used to get indices of different training and test folds\n",
    "\n",
    "strtfdKFold = StratifiedKFold(n_splits=10)\n",
    "kfold = strtfdKFold.split(X_train, Y_train)\n",
    "scores = []\n",
    "\n",
    "for k, (train, test) in enumerate(kfold):\n",
    "    pipeline.fit(X_train_res.iloc[train, :], Y_train_res.iloc[train])\n",
    "    score = pipeline.score(X_train_res.iloc[test, :], Y_train_res.iloc[test])\n",
    "    scores.append(score)\n",
    "    print('Fold: %2d, Training/Test Split Distribution: %s, Accuracy: %.3f' % (k+1, np.bincount(Y_train_res.iloc[train]), score))\n",
    " \n",
    "print('\\n\\nCross-Validation accuracy: %.3f +/- %.3f' %(np.mean(scores), np.std(scores)))\n",
    "df_CrossV.loc[len(df_CrossV.index)] = ['NaiveBayes_Model_WithOut_SOMTE', np.mean(scores)] "
   ]
  },
  {
   "cell_type": "code",
   "execution_count": 111,
   "metadata": {},
   "outputs": [
    {
     "name": "stdout",
     "output_type": "stream",
     "text": [
      "GaussianNB_Model_With_SOMTE\n",
      "Fold:  1, Training/Test Split Distribution: [1740171 1740172], Accuracy: 0.912\n",
      "Fold:  2, Training/Test Split Distribution: [1740171 1740172], Accuracy: 0.912\n",
      "Fold:  3, Training/Test Split Distribution: [1740171 1740172], Accuracy: 0.912\n",
      "Fold:  4, Training/Test Split Distribution: [1740171 1740172], Accuracy: 0.912\n",
      "Fold:  5, Training/Test Split Distribution: [1740172 1740171], Accuracy: 0.912\n",
      "Fold:  6, Training/Test Split Distribution: [1740172 1740171], Accuracy: 0.911\n",
      "Fold:  7, Training/Test Split Distribution: [1740172 1740171], Accuracy: 0.911\n",
      "Fold:  8, Training/Test Split Distribution: [1740172 1740171], Accuracy: 0.912\n",
      "Fold:  9, Training/Test Split Distribution: [1740172 1740172], Accuracy: 0.912\n",
      "Fold: 10, Training/Test Split Distribution: [1740172 1740172], Accuracy: 0.912\n",
      "\n",
      "\n",
      "Cross-Validation accuracy: 0.912 +/- 0.001\n"
     ]
    }
   ],
   "source": [
    "print(\"GaussianNB_Model_With_SOMTE\")\n",
    "pipeline = make_pipeline(StandardScaler(), GaussianNB())\n",
    "\n",
    "# Create an instance of StratifiedKFold which can be used to get indices of different training and test folds\n",
    "\n",
    "strtfdKFold = StratifiedKFold(n_splits=10)\n",
    "kfold = strtfdKFold.split(X_train_res, Y_train_res)\n",
    "scores = []\n",
    "\n",
    "for k, (train, test) in enumerate(kfold):\n",
    "    pipeline.fit(X_train_res.iloc[train, :], Y_train_res.iloc[train])\n",
    "    score = pipeline.score(X_train_res.iloc[test, :], Y_train_res.iloc[test])\n",
    "    scores.append(score)\n",
    "    print('Fold: %2d, Training/Test Split Distribution: %s, Accuracy: %.3f' % (k+1, np.bincount(Y_train_res.iloc[train]), score))\n",
    " \n",
    "print('\\n\\nCross-Validation accuracy: %.3f +/- %.3f' %(np.mean(scores), np.std(scores)))\n",
    "df_CrossV.loc[len(df_CrossV.index)] = ['GaussianNB_Model_With_SOMTE', np.mean(scores)] "
   ]
  },
  {
   "cell_type": "code",
   "execution_count": 112,
   "metadata": {},
   "outputs": [
    {
     "name": "stdout",
     "output_type": "stream",
     "text": [
      "GaussianNB_WithOut_SOMTE\n",
      "Fold:  1, Training/Test Split Distribution: [1740171    5186], Accuracy: 0.986\n",
      "Fold:  2, Training/Test Split Distribution: [1740171    5186], Accuracy: 0.987\n",
      "Fold:  3, Training/Test Split Distribution: [1740171    5186], Accuracy: 0.987\n",
      "Fold:  4, Training/Test Split Distribution: [1740171    5186], Accuracy: 0.987\n",
      "Fold:  5, Training/Test Split Distribution: [1740172    5185], Accuracy: 0.986\n",
      "Fold:  6, Training/Test Split Distribution: [1740172    5185], Accuracy: 0.985\n",
      "Fold:  7, Training/Test Split Distribution: [1740172    5186], Accuracy: 0.986\n",
      "Fold:  8, Training/Test Split Distribution: [1740172    5186], Accuracy: 0.987\n",
      "Fold:  9, Training/Test Split Distribution: [1740172    5186], Accuracy: 0.987\n",
      "Fold: 10, Training/Test Split Distribution: [1740172    5186], Accuracy: 0.986\n",
      "\n",
      "\n",
      "Cross-Validation accuracy: 0.987 +/- 0.001\n"
     ]
    }
   ],
   "source": [
    "print(\"GaussianNB_WithOut_SOMTE\")\n",
    "pipeline = make_pipeline(StandardScaler(), GaussianNB())\n",
    "\n",
    "# Create an instance of StratifiedKFold which can be used to get indices of different training and test folds\n",
    "\n",
    "strtfdKFold = StratifiedKFold(n_splits=10)\n",
    "kfold = strtfdKFold.split(X_train, Y_train)\n",
    "scores = []\n",
    "\n",
    "for k, (train, test) in enumerate(kfold):\n",
    "    pipeline.fit(X_train_res.iloc[train, :], Y_train_res.iloc[train])\n",
    "    score = pipeline.score(X_train_res.iloc[test, :], Y_train_res.iloc[test])\n",
    "    scores.append(score)\n",
    "    print('Fold: %2d, Training/Test Split Distribution: %s, Accuracy: %.3f' % (k+1, np.bincount(Y_train_res.iloc[train]), score))\n",
    " \n",
    "print('\\n\\nCross-Validation accuracy: %.3f +/- %.3f' %(np.mean(scores), np.std(scores)))\n",
    "df_CrossV.loc[len(df_CrossV.index)] = ['GaussianNB_WithOut_SOMTE', np.mean(scores)] "
   ]
  },
  {
   "cell_type": "code",
   "execution_count": 113,
   "metadata": {},
   "outputs": [
    {
     "data": {
      "text/html": [
       "<div>\n",
       "<style scoped>\n",
       "    .dataframe tbody tr th:only-of-type {\n",
       "        vertical-align: middle;\n",
       "    }\n",
       "\n",
       "    .dataframe tbody tr th {\n",
       "        vertical-align: top;\n",
       "    }\n",
       "\n",
       "    .dataframe thead th {\n",
       "        text-align: right;\n",
       "    }\n",
       "</style>\n",
       "<table border=\"1\" class=\"dataframe\">\n",
       "  <thead>\n",
       "    <tr style=\"text-align: right;\">\n",
       "      <th></th>\n",
       "      <th>Model Name</th>\n",
       "      <th>KfoldsCV_Accuracy</th>\n",
       "    </tr>\n",
       "  </thead>\n",
       "  <tbody>\n",
       "    <tr>\n",
       "      <th>0</th>\n",
       "      <td>DecisionTreeClassifier_Model_WithOut_SOMTE</td>\n",
       "      <td>0.999969</td>\n",
       "    </tr>\n",
       "    <tr>\n",
       "      <th>1</th>\n",
       "      <td>DecisionTreeClassifier_Model_With_SOMTE</td>\n",
       "      <td>1.000000</td>\n",
       "    </tr>\n",
       "    <tr>\n",
       "      <th>2</th>\n",
       "      <td>LogisticsRegression_Model_With_SOMTE</td>\n",
       "      <td>0.972178</td>\n",
       "    </tr>\n",
       "    <tr>\n",
       "      <th>3</th>\n",
       "      <td>LogisticsRegression_Model_WithOut_SOMTE</td>\n",
       "      <td>0.998980</td>\n",
       "    </tr>\n",
       "    <tr>\n",
       "      <th>4</th>\n",
       "      <td>NaiveBayes_Model_With_SOMTE</td>\n",
       "      <td>0.922668</td>\n",
       "    </tr>\n",
       "    <tr>\n",
       "      <th>5</th>\n",
       "      <td>NaiveBayes_Model_WithOut_SOMTE</td>\n",
       "      <td>0.998331</td>\n",
       "    </tr>\n",
       "    <tr>\n",
       "      <th>6</th>\n",
       "      <td>GaussianNB_Model_With_SOMTE</td>\n",
       "      <td>0.911870</td>\n",
       "    </tr>\n",
       "    <tr>\n",
       "      <th>7</th>\n",
       "      <td>GaussianNB_WithOut_SOMTE</td>\n",
       "      <td>0.986548</td>\n",
       "    </tr>\n",
       "  </tbody>\n",
       "</table>\n",
       "</div>"
      ],
      "text/plain": [
       "                                   Model Name  KfoldsCV_Accuracy\n",
       "0  DecisionTreeClassifier_Model_WithOut_SOMTE           0.999969\n",
       "1     DecisionTreeClassifier_Model_With_SOMTE           1.000000\n",
       "2        LogisticsRegression_Model_With_SOMTE           0.972178\n",
       "3     LogisticsRegression_Model_WithOut_SOMTE           0.998980\n",
       "4                 NaiveBayes_Model_With_SOMTE           0.922668\n",
       "5              NaiveBayes_Model_WithOut_SOMTE           0.998331\n",
       "6                 GaussianNB_Model_With_SOMTE           0.911870\n",
       "7                    GaussianNB_WithOut_SOMTE           0.986548"
      ]
     },
     "execution_count": 113,
     "metadata": {},
     "output_type": "execute_result"
    }
   ],
   "source": [
    "df_CrossV"
   ]
  },
  {
   "cell_type": "code",
   "execution_count": 123,
   "metadata": {},
   "outputs": [
    {
     "data": {
      "text/html": [
       "<div>\n",
       "<style scoped>\n",
       "    .dataframe tbody tr th:only-of-type {\n",
       "        vertical-align: middle;\n",
       "    }\n",
       "\n",
       "    .dataframe tbody tr th {\n",
       "        vertical-align: top;\n",
       "    }\n",
       "\n",
       "    .dataframe thead th {\n",
       "        text-align: right;\n",
       "    }\n",
       "</style>\n",
       "<table border=\"1\" class=\"dataframe\">\n",
       "  <thead>\n",
       "    <tr style=\"text-align: right;\">\n",
       "      <th></th>\n",
       "      <th>Model Name</th>\n",
       "      <th>Accuracy_score</th>\n",
       "      <th>KfoldsCV_Accuracy</th>\n",
       "    </tr>\n",
       "  </thead>\n",
       "  <tbody>\n",
       "    <tr>\n",
       "      <th>0</th>\n",
       "      <td>DecisionTreeClassifier_Model_With_SOMTE</td>\n",
       "      <td>1.00</td>\n",
       "      <td>1.000000</td>\n",
       "    </tr>\n",
       "    <tr>\n",
       "      <th>1</th>\n",
       "      <td>DecisionTreeClassifier_Model_WithOut_SOMTE</td>\n",
       "      <td>1.00</td>\n",
       "      <td>0.999969</td>\n",
       "    </tr>\n",
       "    <tr>\n",
       "      <th>2</th>\n",
       "      <td>LogisticsRegression_Model_With_SOMTE</td>\n",
       "      <td>0.90</td>\n",
       "      <td>0.972178</td>\n",
       "    </tr>\n",
       "    <tr>\n",
       "      <th>3</th>\n",
       "      <td>LogisticsRegression_Model_WithOut_SOMTE</td>\n",
       "      <td>1.00</td>\n",
       "      <td>0.998980</td>\n",
       "    </tr>\n",
       "    <tr>\n",
       "      <th>4</th>\n",
       "      <td>NaiveBayes_Model_With_SOMTE</td>\n",
       "      <td>0.95</td>\n",
       "      <td>0.922668</td>\n",
       "    </tr>\n",
       "    <tr>\n",
       "      <th>5</th>\n",
       "      <td>NaiveBayes_Model_WithOut_SOMTE</td>\n",
       "      <td>1.00</td>\n",
       "      <td>0.998331</td>\n",
       "    </tr>\n",
       "    <tr>\n",
       "      <th>6</th>\n",
       "      <td>GaussianNB_Model_With_SOMTE</td>\n",
       "      <td>0.98</td>\n",
       "      <td>0.911870</td>\n",
       "    </tr>\n",
       "    <tr>\n",
       "      <th>7</th>\n",
       "      <td>GaussianNB_WithOut_SOMTE</td>\n",
       "      <td>0.99</td>\n",
       "      <td>0.986548</td>\n",
       "    </tr>\n",
       "  </tbody>\n",
       "</table>\n",
       "</div>"
      ],
      "text/plain": [
       "                                   Model Name  Accuracy_score  \\\n",
       "0     DecisionTreeClassifier_Model_With_SOMTE            1.00   \n",
       "1  DecisionTreeClassifier_Model_WithOut_SOMTE            1.00   \n",
       "2        LogisticsRegression_Model_With_SOMTE            0.90   \n",
       "3     LogisticsRegression_Model_WithOut_SOMTE            1.00   \n",
       "4                 NaiveBayes_Model_With_SOMTE            0.95   \n",
       "5              NaiveBayes_Model_WithOut_SOMTE            1.00   \n",
       "6                 GaussianNB_Model_With_SOMTE            0.98   \n",
       "7                    GaussianNB_WithOut_SOMTE            0.99   \n",
       "\n",
       "   KfoldsCV_Accuracy  \n",
       "0           1.000000  \n",
       "1           0.999969  \n",
       "2           0.972178  \n",
       "3           0.998980  \n",
       "4           0.922668  \n",
       "5           0.998331  \n",
       "6           0.911870  \n",
       "7           0.986548  "
      ]
     },
     "execution_count": 123,
     "metadata": {},
     "output_type": "execute_result"
    }
   ],
   "source": [
    "result = pd.merge(eval[['Model Name', 'Accuracy_score']],\n",
    "                df_CrossV,\n",
    "                 on='Model Name', \n",
    "                 how='left')\n",
    "result\n",
    "#pd.concat([df_CrossV, eval], axis=1, join=\"inner\" )"
   ]
  },
  {
   "cell_type": "markdown",
   "metadata": {},
   "source": [
    "### Conclusion"
   ]
  },
  {
   "cell_type": "markdown",
   "metadata": {},
   "source": [
    "* Decision tree classifier has most promising results, with or without SMOTE balancer\n",
    "* The evaluvation using the Predit method has almost the same for Decision tree classifier, But Accuracy are off with LogisticsRegression_Model_With_SOMTE model and GaussianNB_Model_With_SOMTE.\n",
    "* All the models have performed well as per the evaluvation and cross validation, but, due to the Low Type II error DecisionTreeClassifier_Model_With_SOMTE takes the place"
   ]
  }
 ],
 "metadata": {
  "interpreter": {
   "hash": "55b46bb1ae4cab9b864aecaf748df161e211cedc6664d4c664a99e69f9169e7b"
  },
  "kernelspec": {
   "display_name": "Python 3.8.5 ('base')",
   "language": "python",
   "name": "python3"
  },
  "language_info": {
   "codemirror_mode": {
    "name": "ipython",
    "version": 3
   },
   "file_extension": ".py",
   "mimetype": "text/x-python",
   "name": "python",
   "nbconvert_exporter": "python",
   "pygments_lexer": "ipython3",
   "version": "3.8.5"
  },
  "orig_nbformat": 4
 },
 "nbformat": 4,
 "nbformat_minor": 2
}
